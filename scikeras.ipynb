{
  "cells": [
    {
      "cell_type": "code",
      "source": [
        "import numpy as np\n",
        "from sklearn.datasets import make_classification\n",
        "from tensorflow import keras\n",
        "\n",
        "from scikeras.wrappers import KerasClassifier\n",
        "\n",
        "\n",
        "X, y = make_classification(1000, 20, n_informative=10, random_state=0)\n",
        "X = X.astype(np.float32)\n",
        "y = y.astype(np.int64)\n",
        "\n",
        "def get_model(hidden_layer_dim, meta):\n",
        "    # note that meta is a special argument that will be\n",
        "    # handed a dict containing input metadata\n",
        "    n_features_in_ = meta[\"n_features_in_\"]\n",
        "    X_shape_ = meta[\"X_shape_\"]\n",
        "    n_classes_ = meta[\"n_classes_\"]\n",
        "\n",
        "    model = keras.models.Sequential()\n",
        "    model.add(keras.layers.Dense(n_features_in_, input_shape=X_shape_[1:]))\n",
        "    model.add(keras.layers.Activation(\"relu\"))\n",
        "    model.add(keras.layers.Dense(hidden_layer_dim))\n",
        "    model.add(keras.layers.Activation(\"relu\"))\n",
        "    model.add(keras.layers.Dense(n_classes_))\n",
        "    model.add(keras.layers.Activation(\"softmax\"))\n",
        "    return model\n",
        "\n",
        "clf = KerasClassifier(\n",
        "    get_model,\n",
        "    loss=\"sparse_categorical_crossentropy\",\n",
        "    hidden_layer_dim=100,\n",
        ")\n",
        "\n",
        "clf.fit(X, y)\n",
        "y_proba = clf.predict_proba(X)"
      ],
      "outputs": [
        {
          "output_type": "stream",
          "name": "stderr",
          "text": "2023-07-24 17:19:20.793673: E tensorflow/compiler/xla/stream_executor/cuda/cuda_driver.cc:266] failed call to cuInit: CUDA_ERROR_NO_DEVICE: no CUDA-capable device is detected\n"
        },
        {
          "output_type": "stream",
          "name": "stdout",
          "text": "32/32 [==============================] - 1s 3ms/step - loss: 0.6968\b\b\b\b\b\b\b\b\b\b\b\b\b\b\b\b\b\b\b\b\b\b\b\b\b\b\b\b\b\b\b\b\b\b\b\b\b\b\b\b\b\b\b\b\b\b\b\b\b\b\b\b\b\b\b\b\b\b\b\b\b\n32/32 [==============================] - 0s 1ms/step\b\b\b\b\b\b\b\b\b\b\b\b\b\b\b\b\b\b\b\b\b\b\b\b\b\b\b\b\b\b\b\b\b\b\b\b\b\b\b\b\b\b\b\b\n"
        }
      ],
      "execution_count": 3,
      "metadata": {
        "gather": {
          "logged": 1690219164593
        }
      }
    },
    {
      "cell_type": "code",
      "source": [
        "y_proba"
      ],
      "outputs": [
        {
          "output_type": "execute_result",
          "execution_count": 4,
          "data": {
            "text/plain": "array([[0.26889384, 0.7311061 ],\n       [0.6935367 , 0.30646324],\n       [0.6134507 , 0.38654926],\n       ...,\n       [0.7061241 , 0.29387587],\n       [0.61015034, 0.38984957],\n       [0.84290946, 0.1570905 ]], dtype=float32)"
          },
          "metadata": {}
        }
      ],
      "execution_count": 4,
      "metadata": {
        "jupyter": {
          "source_hidden": false,
          "outputs_hidden": false
        },
        "nteract": {
          "transient": {
            "deleting": false
          }
        },
        "gather": {
          "logged": 1690219195500
        }
      }
    },
    {
      "cell_type": "code",
      "source": [
        "#Sigmoid is used for binary classification methods where we only have 2 classes, \n",
        "# while SoftMax applies to multiclass problems. \n",
        "# In fact, the SoftMax function is an extension of the Sigmoid function."
      ],
      "outputs": [],
      "execution_count": null,
      "metadata": {
        "jupyter": {
          "source_hidden": false,
          "outputs_hidden": false
        },
        "nteract": {
          "transient": {
            "deleting": false
          }
        }
      }
    }
  ],
  "metadata": {
    "kernelspec": {
      "name": "python310-sdkv2",
      "language": "python",
      "display_name": "Python 3.10 - SDK v2"
    },
    "language_info": {
      "name": "python",
      "version": "3.10.9",
      "mimetype": "text/x-python",
      "codemirror_mode": {
        "name": "ipython",
        "version": 3
      },
      "pygments_lexer": "ipython3",
      "nbconvert_exporter": "python",
      "file_extension": ".py"
    },
    "microsoft": {
      "ms_spell_check": {
        "ms_spell_check_language": "en"
      }
    },
    "kernel_info": {
      "name": "python310-sdkv2"
    },
    "nteract": {
      "version": "nteract-front-end@1.0.0"
    }
  },
  "nbformat": 4,
  "nbformat_minor": 2
}