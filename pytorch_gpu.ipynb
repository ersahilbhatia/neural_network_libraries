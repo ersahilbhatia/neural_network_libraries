{
 "cells": [
  {
   "cell_type": "code",
   "execution_count": 1,
   "metadata": {
    "gather": {
     "logged": 1689855890827
    },
    "jupyter": {
     "outputs_hidden": false,
     "source_hidden": false
    },
    "nteract": {
     "transient": {
      "deleting": false
     }
    }
   },
   "outputs": [],
   "source": [
    "import pandas as pd\n",
    "import numpy as np\n",
    "from sklearn.model_selection import train_test_split\n",
    "import seaborn as sns\n",
    "#### Libraries From Pytorch\n",
    "import torch\n",
    "import torch.nn as nn\n",
    "import torch.nn.functional as F\n"
   ]
  },
  {
   "cell_type": "code",
   "execution_count": 2,
   "metadata": {
    "gather": {
     "logged": 1689855890964
    },
    "jupyter": {
     "outputs_hidden": false,
     "source_hidden": false
    },
    "nteract": {
     "transient": {
      "deleting": false
     }
    }
   },
   "outputs": [
    {
     "data": {
      "text/plain": [
       "True"
      ]
     },
     "execution_count": 2,
     "metadata": {},
     "output_type": "execute_result"
    }
   ],
   "source": [
    "# Check if cuda is available\n",
    "torch.cuda.is_available()"
   ]
  },
  {
   "cell_type": "code",
   "execution_count": 3,
   "metadata": {
    "gather": {
     "logged": 1689855891090
    },
    "jupyter": {
     "outputs_hidden": false,
     "source_hidden": false
    },
    "nteract": {
     "transient": {
      "deleting": false
     }
    }
   },
   "outputs": [
    {
     "data": {
      "text/plain": [
       "0"
      ]
     },
     "execution_count": 3,
     "metadata": {},
     "output_type": "execute_result"
    }
   ],
   "source": [
    "# get device id of GPU\n",
    "torch.cuda.current_device()"
   ]
  },
  {
   "cell_type": "code",
   "execution_count": 4,
   "metadata": {
    "gather": {
     "logged": 1689855891212
    },
    "jupyter": {
     "outputs_hidden": false,
     "source_hidden": false
    },
    "nteract": {
     "transient": {
      "deleting": false
     }
    }
   },
   "outputs": [
    {
     "data": {
      "text/plain": [
       "'Tesla T4'"
      ]
     },
     "execution_count": 4,
     "metadata": {},
     "output_type": "execute_result"
    }
   ],
   "source": [
    "# get device name of GPU\n",
    "torch.cuda.get_device_name(0)"
   ]
  },
  {
   "cell_type": "code",
   "execution_count": 5,
   "metadata": {
    "gather": {
     "logged": 1689855891337
    },
    "jupyter": {
     "outputs_hidden": false,
     "source_hidden": false
    },
    "nteract": {
     "transient": {
      "deleting": false
     }
    }
   },
   "outputs": [
    {
     "name": "stderr",
     "output_type": "stream",
     "text": [
      "/anaconda/envs/azureml_py310_sdkv2/lib/python3.10/site-packages/torch/cuda/memory.py:416: FutureWarning: torch.cuda.memory_cached has been renamed to torch.cuda.memory_reserved\n",
      "  warnings.warn(\n"
     ]
    },
    {
     "data": {
      "text/plain": [
       "0"
      ]
     },
     "execution_count": 5,
     "metadata": {},
     "output_type": "execute_result"
    }
   ],
   "source": [
    "# How much memory is cached \n",
    "torch.cuda.memory_cached()"
   ]
  },
  {
   "cell_type": "code",
   "execution_count": 6,
   "metadata": {
    "gather": {
     "logged": 1689855891444
    },
    "jupyter": {
     "outputs_hidden": false,
     "source_hidden": false
    },
    "nteract": {
     "transient": {
      "deleting": false
     }
    }
   },
   "outputs": [
    {
     "data": {
      "text/plain": [
       "0"
      ]
     },
     "execution_count": 6,
     "metadata": {},
     "output_type": "execute_result"
    }
   ],
   "source": [
    "# check how much memory allocated in GPU\n",
    "torch.cuda.memory_allocated()"
   ]
  },
  {
   "cell_type": "code",
   "execution_count": 7,
   "metadata": {
    "gather": {
     "logged": 1689855891699
    },
    "jupyter": {
     "outputs_hidden": false,
     "source_hidden": false
    },
    "nteract": {
     "transient": {
      "deleting": false
     }
    }
   },
   "outputs": [],
   "source": [
    "#cuda() function allocate variable to GPU\n",
    "var1=torch.FloatTensor([1.0,2.0,3.0]).cuda()"
   ]
  },
  {
   "cell_type": "code",
   "execution_count": 8,
   "metadata": {
    "gather": {
     "logged": 1689855891814
    },
    "jupyter": {
     "outputs_hidden": false,
     "source_hidden": false
    },
    "nteract": {
     "transient": {
      "deleting": false
     }
    }
   },
   "outputs": [
    {
     "data": {
      "text/plain": [
       "tensor([1., 2., 3.], device='cuda:0')"
      ]
     },
     "execution_count": 8,
     "metadata": {},
     "output_type": "execute_result"
    }
   ],
   "source": [
    "var1"
   ]
  },
  {
   "cell_type": "code",
   "execution_count": 9,
   "metadata": {
    "gather": {
     "logged": 1689855891927
    },
    "jupyter": {
     "outputs_hidden": false,
     "source_hidden": false
    },
    "nteract": {
     "transient": {
      "deleting": false
     }
    }
   },
   "outputs": [
    {
     "data": {
      "text/plain": [
       "device(type='cuda', index=0)"
      ]
     },
     "execution_count": 9,
     "metadata": {},
     "output_type": "execute_result"
    }
   ],
   "source": [
    "var1.device"
   ]
  },
  {
   "cell_type": "code",
   "execution_count": 10,
   "metadata": {
    "gather": {
     "logged": 1689855892037
    },
    "jupyter": {
     "outputs_hidden": false,
     "source_hidden": false
    },
    "nteract": {
     "transient": {
      "deleting": false
     }
    }
   },
   "outputs": [
    {
     "data": {
      "text/html": [
       "<div>\n",
       "<style scoped>\n",
       "    .dataframe tbody tr th:only-of-type {\n",
       "        vertical-align: middle;\n",
       "    }\n",
       "\n",
       "    .dataframe tbody tr th {\n",
       "        vertical-align: top;\n",
       "    }\n",
       "\n",
       "    .dataframe thead th {\n",
       "        text-align: right;\n",
       "    }\n",
       "</style>\n",
       "<table border=\"1\" class=\"dataframe\">\n",
       "  <thead>\n",
       "    <tr style=\"text-align: right;\">\n",
       "      <th></th>\n",
       "      <th>Pregnancies</th>\n",
       "      <th>Glucose</th>\n",
       "      <th>BloodPressure</th>\n",
       "      <th>SkinThickness</th>\n",
       "      <th>Insulin</th>\n",
       "      <th>BMI</th>\n",
       "      <th>DiabetesPedigreeFunction</th>\n",
       "      <th>Age</th>\n",
       "      <th>Outcome</th>\n",
       "    </tr>\n",
       "  </thead>\n",
       "  <tbody>\n",
       "    <tr>\n",
       "      <th>0</th>\n",
       "      <td>6</td>\n",
       "      <td>148</td>\n",
       "      <td>72</td>\n",
       "      <td>35</td>\n",
       "      <td>0</td>\n",
       "      <td>33.6</td>\n",
       "      <td>0.627</td>\n",
       "      <td>50</td>\n",
       "      <td>1</td>\n",
       "    </tr>\n",
       "    <tr>\n",
       "      <th>1</th>\n",
       "      <td>1</td>\n",
       "      <td>85</td>\n",
       "      <td>66</td>\n",
       "      <td>29</td>\n",
       "      <td>0</td>\n",
       "      <td>26.6</td>\n",
       "      <td>0.351</td>\n",
       "      <td>31</td>\n",
       "      <td>0</td>\n",
       "    </tr>\n",
       "    <tr>\n",
       "      <th>2</th>\n",
       "      <td>8</td>\n",
       "      <td>183</td>\n",
       "      <td>64</td>\n",
       "      <td>0</td>\n",
       "      <td>0</td>\n",
       "      <td>23.3</td>\n",
       "      <td>0.672</td>\n",
       "      <td>32</td>\n",
       "      <td>1</td>\n",
       "    </tr>\n",
       "    <tr>\n",
       "      <th>3</th>\n",
       "      <td>1</td>\n",
       "      <td>89</td>\n",
       "      <td>66</td>\n",
       "      <td>23</td>\n",
       "      <td>94</td>\n",
       "      <td>28.1</td>\n",
       "      <td>0.167</td>\n",
       "      <td>21</td>\n",
       "      <td>0</td>\n",
       "    </tr>\n",
       "    <tr>\n",
       "      <th>4</th>\n",
       "      <td>0</td>\n",
       "      <td>137</td>\n",
       "      <td>40</td>\n",
       "      <td>35</td>\n",
       "      <td>168</td>\n",
       "      <td>43.1</td>\n",
       "      <td>2.288</td>\n",
       "      <td>33</td>\n",
       "      <td>1</td>\n",
       "    </tr>\n",
       "  </tbody>\n",
       "</table>\n",
       "</div>"
      ],
      "text/plain": [
       "   Pregnancies  Glucose  BloodPressure  SkinThickness  Insulin   BMI  \\\n",
       "0            6      148             72             35        0  33.6   \n",
       "1            1       85             66             29        0  26.6   \n",
       "2            8      183             64              0        0  23.3   \n",
       "3            1       89             66             23       94  28.1   \n",
       "4            0      137             40             35      168  43.1   \n",
       "\n",
       "   DiabetesPedigreeFunction  Age  Outcome  \n",
       "0                     0.627   50        1  \n",
       "1                     0.351   31        0  \n",
       "2                     0.672   32        1  \n",
       "3                     0.167   21        0  \n",
       "4                     2.288   33        1  "
      ]
     },
     "execution_count": 10,
     "metadata": {},
     "output_type": "execute_result"
    }
   ],
   "source": [
    "df=pd.read_csv('diabetes.csv')\n",
    "df.head()"
   ]
  },
  {
   "cell_type": "code",
   "execution_count": 11,
   "metadata": {
    "gather": {
     "logged": 1689855892145
    },
    "jupyter": {
     "outputs_hidden": false,
     "source_hidden": false
    },
    "nteract": {
     "transient": {
      "deleting": false
     }
    }
   },
   "outputs": [
    {
     "data": {
      "text/html": [
       "<div>\n",
       "<style scoped>\n",
       "    .dataframe tbody tr th:only-of-type {\n",
       "        vertical-align: middle;\n",
       "    }\n",
       "\n",
       "    .dataframe tbody tr th {\n",
       "        vertical-align: top;\n",
       "    }\n",
       "\n",
       "    .dataframe thead th {\n",
       "        text-align: right;\n",
       "    }\n",
       "</style>\n",
       "<table border=\"1\" class=\"dataframe\">\n",
       "  <thead>\n",
       "    <tr style=\"text-align: right;\">\n",
       "      <th></th>\n",
       "      <th>Pregnancies</th>\n",
       "      <th>Glucose</th>\n",
       "      <th>BloodPressure</th>\n",
       "      <th>SkinThickness</th>\n",
       "      <th>Insulin</th>\n",
       "      <th>BMI</th>\n",
       "      <th>DiabetesPedigreeFunction</th>\n",
       "      <th>Age</th>\n",
       "      <th>Outcome</th>\n",
       "    </tr>\n",
       "  </thead>\n",
       "  <tbody>\n",
       "    <tr>\n",
       "      <th>0</th>\n",
       "      <td>6</td>\n",
       "      <td>148</td>\n",
       "      <td>72</td>\n",
       "      <td>35</td>\n",
       "      <td>0</td>\n",
       "      <td>33.6</td>\n",
       "      <td>0.627</td>\n",
       "      <td>50</td>\n",
       "      <td>1</td>\n",
       "    </tr>\n",
       "    <tr>\n",
       "      <th>1</th>\n",
       "      <td>1</td>\n",
       "      <td>85</td>\n",
       "      <td>66</td>\n",
       "      <td>29</td>\n",
       "      <td>0</td>\n",
       "      <td>26.6</td>\n",
       "      <td>0.351</td>\n",
       "      <td>31</td>\n",
       "      <td>0</td>\n",
       "    </tr>\n",
       "    <tr>\n",
       "      <th>2</th>\n",
       "      <td>8</td>\n",
       "      <td>183</td>\n",
       "      <td>64</td>\n",
       "      <td>0</td>\n",
       "      <td>0</td>\n",
       "      <td>23.3</td>\n",
       "      <td>0.672</td>\n",
       "      <td>32</td>\n",
       "      <td>1</td>\n",
       "    </tr>\n",
       "    <tr>\n",
       "      <th>3</th>\n",
       "      <td>1</td>\n",
       "      <td>89</td>\n",
       "      <td>66</td>\n",
       "      <td>23</td>\n",
       "      <td>94</td>\n",
       "      <td>28.1</td>\n",
       "      <td>0.167</td>\n",
       "      <td>21</td>\n",
       "      <td>0</td>\n",
       "    </tr>\n",
       "    <tr>\n",
       "      <th>4</th>\n",
       "      <td>0</td>\n",
       "      <td>137</td>\n",
       "      <td>40</td>\n",
       "      <td>35</td>\n",
       "      <td>168</td>\n",
       "      <td>43.1</td>\n",
       "      <td>2.288</td>\n",
       "      <td>33</td>\n",
       "      <td>1</td>\n",
       "    </tr>\n",
       "  </tbody>\n",
       "</table>\n",
       "</div>"
      ],
      "text/plain": [
       "   Pregnancies  Glucose  BloodPressure  SkinThickness  Insulin   BMI  \\\n",
       "0            6      148             72             35        0  33.6   \n",
       "1            1       85             66             29        0  26.6   \n",
       "2            8      183             64              0        0  23.3   \n",
       "3            1       89             66             23       94  28.1   \n",
       "4            0      137             40             35      168  43.1   \n",
       "\n",
       "   DiabetesPedigreeFunction  Age  Outcome  \n",
       "0                     0.627   50        1  \n",
       "1                     0.351   31        0  \n",
       "2                     0.672   32        1  \n",
       "3                     0.167   21        0  \n",
       "4                     2.288   33        1  "
      ]
     },
     "execution_count": 11,
     "metadata": {},
     "output_type": "execute_result"
    }
   ],
   "source": [
    "df.head()"
   ]
  },
  {
   "cell_type": "code",
   "execution_count": 12,
   "metadata": {
    "gather": {
     "logged": 1689855892591
    },
    "jupyter": {
     "outputs_hidden": false,
     "source_hidden": false
    },
    "nteract": {
     "transient": {
      "deleting": false
     }
    }
   },
   "outputs": [],
   "source": [
    "X=df.drop('Outcome',axis=1).values### independent features\n",
    "y=df['Outcome'].values###dependent features"
   ]
  },
  {
   "cell_type": "code",
   "execution_count": 13,
   "metadata": {
    "gather": {
     "logged": 1689855892697
    },
    "jupyter": {
     "outputs_hidden": false,
     "source_hidden": false
    },
    "nteract": {
     "transient": {
      "deleting": false
     }
    }
   },
   "outputs": [],
   "source": [
    "X_train,X_test,y_train,y_test=train_test_split(X,y,test_size=0.2,random_state=0)"
   ]
  },
  {
   "cell_type": "code",
   "execution_count": 14,
   "metadata": {
    "gather": {
     "logged": 1689855892803
    },
    "jupyter": {
     "outputs_hidden": false,
     "source_hidden": false
    },
    "nteract": {
     "transient": {
      "deleting": false
     }
    }
   },
   "outputs": [],
   "source": [
    "##### Creating Tensors\n",
    "X_train=torch.FloatTensor(X_train).cuda()\n",
    "X_test=torch.FloatTensor(X_test).cuda()\n",
    "y_train=torch.LongTensor(y_train).cuda()"
   ]
  },
  {
   "cell_type": "code",
   "execution_count": 15,
   "metadata": {
    "gather": {
     "logged": 1689855892933
    },
    "jupyter": {
     "outputs_hidden": false,
     "source_hidden": false
    },
    "nteract": {
     "transient": {
      "deleting": false
     }
    }
   },
   "outputs": [
    {
     "data": {
      "text/plain": [
       "device(type='cuda', index=0)"
      ]
     },
     "execution_count": 15,
     "metadata": {},
     "output_type": "execute_result"
    }
   ],
   "source": [
    "# X_train is stored in GPU\n",
    "X_train.device"
   ]
  },
  {
   "cell_type": "code",
   "execution_count": 16,
   "metadata": {
    "gather": {
     "logged": 1689855893037
    },
    "jupyter": {
     "outputs_hidden": false,
     "source_hidden": false
    },
    "nteract": {
     "transient": {
      "deleting": false
     }
    }
   },
   "outputs": [],
   "source": [
    "#### Creating Model with Pytorch\n",
    "class ANN_Model(nn.Module):\n",
    "    def __init__(self,input_features=8,hidden1=20,hidden2=20,out_features=2):\n",
    "        super().__init__()\n",
    "        self.f_connected1=nn.Linear(input_features,hidden1)\n",
    "        self.f_connected2=nn.Linear(hidden1,hidden2)\n",
    "        self.out=nn.Linear(hidden2,out_features)\n",
    "    def forward(self,x):\n",
    "        x=F.relu(self.f_connected1(x))\n",
    "        x=F.relu(self.f_connected2(x))\n",
    "        x=self.out(x)\n",
    "        return x"
   ]
  },
  {
   "cell_type": "code",
   "execution_count": 17,
   "metadata": {
    "gather": {
     "logged": 1689855893144
    },
    "jupyter": {
     "outputs_hidden": false,
     "source_hidden": false
    },
    "nteract": {
     "transient": {
      "deleting": false
     }
    }
   },
   "outputs": [],
   "source": [
    "####instantiate my ANN_model\n",
    "torch.manual_seed(20)\n",
    "model=ANN_Model()"
   ]
  },
  {
   "cell_type": "code",
   "execution_count": 18,
   "metadata": {
    "gather": {
     "logged": 1689855893253
    },
    "jupyter": {
     "outputs_hidden": false,
     "source_hidden": false
    },
    "nteract": {
     "transient": {
      "deleting": false
     }
    }
   },
   "outputs": [
    {
     "data": {
      "text/plain": [
       "<bound method Module.parameters of ANN_Model(\n",
       "  (f_connected1): Linear(in_features=8, out_features=20, bias=True)\n",
       "  (f_connected2): Linear(in_features=20, out_features=20, bias=True)\n",
       "  (out): Linear(in_features=20, out_features=2, bias=True)\n",
       ")>"
      ]
     },
     "execution_count": 18,
     "metadata": {},
     "output_type": "execute_result"
    }
   ],
   "source": [
    "model.parameters"
   ]
  },
  {
   "cell_type": "code",
   "execution_count": 19,
   "metadata": {
    "gather": {
     "logged": 1689855893355
    },
    "jupyter": {
     "outputs_hidden": false,
     "source_hidden": false
    },
    "nteract": {
     "transient": {
      "deleting": false
     }
    }
   },
   "outputs": [
    {
     "name": "stdout",
     "output_type": "stream",
     "text": [
      "False\n",
      "False\n",
      "False\n",
      "False\n",
      "False\n",
      "False\n"
     ]
    }
   ],
   "source": [
    "for i in model.parameters():\n",
    "    print(i.is_cuda)"
   ]
  },
  {
   "cell_type": "code",
   "execution_count": 20,
   "metadata": {
    "gather": {
     "logged": 1689855893454
    },
    "jupyter": {
     "outputs_hidden": false,
     "source_hidden": false
    },
    "nteract": {
     "transient": {
      "deleting": false
     }
    }
   },
   "outputs": [],
   "source": [
    "# By using cuda() function, model will run in GPU\n",
    "model=model.cuda()"
   ]
  },
  {
   "cell_type": "code",
   "execution_count": 21,
   "metadata": {
    "gather": {
     "logged": 1689855893555
    },
    "jupyter": {
     "outputs_hidden": false,
     "source_hidden": false
    },
    "nteract": {
     "transient": {
      "deleting": false
     }
    }
   },
   "outputs": [],
   "source": [
    "### Backward Propogation-- Define the loss_function,define the optimizer\n",
    "loss_function=nn.CrossEntropyLoss()\n",
    "optimizer=torch.optim.Adam(model.parameters(),lr=0.01)"
   ]
  },
  {
   "cell_type": "code",
   "execution_count": 22,
   "metadata": {
    "gather": {
     "logged": 1689855900376
    },
    "jupyter": {
     "outputs_hidden": false,
     "source_hidden": false
    },
    "nteract": {
     "transient": {
      "deleting": false
     }
    }
   },
   "outputs": [
    {
     "name": "stdout",
     "output_type": "stream",
     "text": [
      "Epoch number: 1 and the loss : 3.457210063934326\n",
      "Epoch number: 11 and the loss : 0.8019208908081055\n",
      "Epoch number: 21 and the loss : 0.6090320348739624\n",
      "Epoch number: 31 and the loss : 0.5917770862579346\n",
      "Epoch number: 41 and the loss : 0.5679707527160645\n",
      "Epoch number: 51 and the loss : 0.5529041886329651\n",
      "Epoch number: 61 and the loss : 0.5410094857215881\n",
      "Epoch number: 71 and the loss : 0.5310389995574951\n",
      "Epoch number: 81 and the loss : 0.522036075592041\n",
      "Epoch number: 91 and the loss : 0.5135972499847412\n",
      "Epoch number: 101 and the loss : 0.5061255097389221\n",
      "Epoch number: 111 and the loss : 0.49834102392196655\n",
      "Epoch number: 121 and the loss : 0.4960552752017975\n",
      "Epoch number: 131 and the loss : 0.48286372423171997\n",
      "Epoch number: 141 and the loss : 0.4756036698818207\n",
      "Epoch number: 151 and the loss : 0.4833469092845917\n",
      "Epoch number: 161 and the loss : 0.48827385902404785\n",
      "Epoch number: 171 and the loss : 0.469334214925766\n",
      "Epoch number: 181 and the loss : 0.4662630259990692\n",
      "Epoch number: 191 and the loss : 0.45597362518310547\n",
      "Epoch number: 201 and the loss : 0.44663548469543457\n",
      "Epoch number: 211 and the loss : 0.43969160318374634\n",
      "Epoch number: 221 and the loss : 0.4370323419570923\n",
      "Epoch number: 231 and the loss : 0.4299491345882416\n",
      "Epoch number: 241 and the loss : 0.4246659278869629\n",
      "Epoch number: 251 and the loss : 0.42031705379486084\n",
      "Epoch number: 261 and the loss : 0.4616430401802063\n",
      "Epoch number: 271 and the loss : 0.4405798017978668\n",
      "Epoch number: 281 and the loss : 0.4096437692642212\n",
      "Epoch number: 291 and the loss : 0.40880531072616577\n",
      "Epoch number: 301 and the loss : 0.4049243927001953\n",
      "Epoch number: 311 and the loss : 0.4050044119358063\n",
      "Epoch number: 321 and the loss : 0.39691027998924255\n",
      "Epoch number: 331 and the loss : 0.3945690095424652\n",
      "Epoch number: 341 and the loss : 0.43704453110694885\n",
      "Epoch number: 351 and the loss : 0.39456450939178467\n",
      "Epoch number: 361 and the loss : 0.38861197233200073\n",
      "Epoch number: 371 and the loss : 0.3822844922542572\n",
      "Epoch number: 381 and the loss : 0.3778292238712311\n",
      "Epoch number: 391 and the loss : 0.37482208013534546\n",
      "Epoch number: 401 and the loss : 0.4394083023071289\n",
      "Epoch number: 411 and the loss : 0.3940782845020294\n",
      "Epoch number: 421 and the loss : 0.39080536365509033\n",
      "Epoch number: 431 and the loss : 0.37673714756965637\n",
      "Epoch number: 441 and the loss : 0.3640494644641876\n",
      "Epoch number: 451 and the loss : 0.36053597927093506\n",
      "Epoch number: 461 and the loss : 0.3569507598876953\n",
      "Epoch number: 471 and the loss : 0.3948770761489868\n",
      "Epoch number: 481 and the loss : 0.3621836304664612\n",
      "Epoch number: 491 and the loss : 0.34988006949424744\n",
      "Epoch number: 501 and the loss : 0.34799614548683167\n",
      "Epoch number: 511 and the loss : 0.3448452651500702\n",
      "Epoch number: 521 and the loss : 0.4395786225795746\n",
      "Epoch number: 531 and the loss : 0.40184205770492554\n",
      "Epoch number: 541 and the loss : 0.3520759046077728\n",
      "Epoch number: 551 and the loss : 0.35094738006591797\n",
      "Epoch number: 561 and the loss : 0.336276113986969\n",
      "Epoch number: 571 and the loss : 0.33175694942474365\n",
      "Epoch number: 581 and the loss : 0.3286661207675934\n",
      "Epoch number: 591 and the loss : 0.3249470591545105\n",
      "Epoch number: 601 and the loss : 0.32245180010795593\n",
      "Epoch number: 611 and the loss : 0.3514345586299896\n",
      "Epoch number: 621 and the loss : 0.342684805393219\n",
      "Epoch number: 631 and the loss : 0.34167593717575073\n",
      "Epoch number: 641 and the loss : 0.33131760358810425\n",
      "Epoch number: 651 and the loss : 0.3175247013568878\n",
      "Epoch number: 661 and the loss : 0.3135383427143097\n",
      "Epoch number: 671 and the loss : 0.31637686491012573\n",
      "Epoch number: 681 and the loss : 0.32272428274154663\n",
      "Epoch number: 691 and the loss : 0.34329754114151\n",
      "Epoch number: 701 and the loss : 0.3120531141757965\n",
      "Epoch number: 711 and the loss : 0.30338990688323975\n",
      "Epoch number: 721 and the loss : 0.30134859681129456\n",
      "Epoch number: 731 and the loss : 0.37678563594818115\n",
      "Epoch number: 741 and the loss : 0.34357619285583496\n",
      "Epoch number: 751 and the loss : 0.32103243470191956\n",
      "Epoch number: 761 and the loss : 0.3043797016143799\n",
      "Epoch number: 771 and the loss : 0.322208046913147\n",
      "Epoch number: 781 and the loss : 0.3116661310195923\n",
      "Epoch number: 791 and the loss : 0.30638638138771057\n",
      "Epoch number: 801 and the loss : 0.3894440233707428\n",
      "Epoch number: 811 and the loss : 0.3936808705329895\n",
      "Epoch number: 821 and the loss : 0.3245112895965576\n",
      "Epoch number: 831 and the loss : 0.3073928654193878\n",
      "Epoch number: 841 and the loss : 0.3026687502861023\n",
      "Epoch number: 851 and the loss : 0.29954925179481506\n",
      "Epoch number: 861 and the loss : 0.2968958616256714\n",
      "Epoch number: 871 and the loss : 0.294555127620697\n",
      "Epoch number: 881 and the loss : 0.308468759059906\n",
      "Epoch number: 891 and the loss : 0.3481428623199463\n",
      "Epoch number: 901 and the loss : 0.3109254539012909\n",
      "Epoch number: 911 and the loss : 0.326053649187088\n",
      "Epoch number: 921 and the loss : 0.34539052844047546\n",
      "Epoch number: 931 and the loss : 0.30682864785194397\n",
      "Epoch number: 941 and the loss : 0.29056593775749207\n",
      "Epoch number: 951 and the loss : 0.29241007566452026\n",
      "Epoch number: 961 and the loss : 0.29347720742225647\n",
      "Epoch number: 971 and the loss : 0.2877621352672577\n",
      "Epoch number: 981 and the loss : 0.2887621819972992\n",
      "Epoch number: 991 and the loss : 0.3272124230861664\n",
      "Epoch number: 1001 and the loss : 0.29442811012268066\n",
      "Epoch number: 1011 and the loss : 0.3649704158306122\n",
      "Epoch number: 1021 and the loss : 0.33857184648513794\n",
      "Epoch number: 1031 and the loss : 0.299931138753891\n",
      "Epoch number: 1041 and the loss : 0.2988044023513794\n",
      "Epoch number: 1051 and the loss : 0.2863715589046478\n",
      "Epoch number: 1061 and the loss : 0.2827298045158386\n",
      "Epoch number: 1071 and the loss : 0.28140121698379517\n",
      "Epoch number: 1081 and the loss : 0.278784841299057\n",
      "Epoch number: 1091 and the loss : 0.28289562463760376\n",
      "Epoch number: 1101 and the loss : 0.28956469893455505\n",
      "Epoch number: 1111 and the loss : 0.30987080931663513\n",
      "Epoch number: 1121 and the loss : 0.2805100381374359\n",
      "Epoch number: 1131 and the loss : 0.3038640320301056\n",
      "Epoch number: 1141 and the loss : 0.2912079691886902\n",
      "Epoch number: 1151 and the loss : 0.27858591079711914\n",
      "Epoch number: 1161 and the loss : 0.2911717891693115\n",
      "Epoch number: 1171 and the loss : 0.2871135175228119\n",
      "Epoch number: 1181 and the loss : 0.2792072892189026\n",
      "Epoch number: 1191 and the loss : 0.27497604489326477\n",
      "Epoch number: 1201 and the loss : 0.27792397141456604\n",
      "Epoch number: 1211 and the loss : 0.2737765610218048\n",
      "Epoch number: 1221 and the loss : 0.28409481048583984\n",
      "Epoch number: 1231 and the loss : 0.38810601830482483\n",
      "Epoch number: 1241 and the loss : 0.3024120628833771\n",
      "Epoch number: 1251 and the loss : 0.2763676345348358\n",
      "Epoch number: 1261 and the loss : 0.2749006748199463\n",
      "Epoch number: 1271 and the loss : 0.27376440167427063\n",
      "Epoch number: 1281 and the loss : 0.2696383595466614\n",
      "Epoch number: 1291 and the loss : 0.26917025446891785\n",
      "Epoch number: 1301 and the loss : 0.2723367512226105\n",
      "Epoch number: 1311 and the loss : 0.272432804107666\n",
      "Epoch number: 1321 and the loss : 0.2725861668586731\n",
      "Epoch number: 1331 and the loss : 0.27717718482017517\n",
      "Epoch number: 1341 and the loss : 0.27217790484428406\n",
      "Epoch number: 1351 and the loss : 0.2644193768501282\n",
      "Epoch number: 1361 and the loss : 0.2678748369216919\n",
      "Epoch number: 1371 and the loss : 0.2619577646255493\n",
      "Epoch number: 1381 and the loss : 0.29920077323913574\n",
      "Epoch number: 1391 and the loss : 0.3469947576522827\n",
      "Epoch number: 1401 and the loss : 0.3137926459312439\n",
      "Epoch number: 1411 and the loss : 0.27645546197891235\n",
      "Epoch number: 1421 and the loss : 0.2627565264701843\n",
      "Epoch number: 1431 and the loss : 0.2586950361728668\n",
      "Epoch number: 1441 and the loss : 0.2554585337638855\n",
      "Epoch number: 1451 and the loss : 0.2545299828052521\n",
      "Epoch number: 1461 and the loss : 0.2539312243461609\n",
      "Epoch number: 1471 and the loss : 0.25463733077049255\n",
      "Epoch number: 1481 and the loss : 0.2530600428581238\n",
      "Epoch number: 1491 and the loss : 0.250568687915802\n",
      "Epoch number: 1501 and the loss : 0.2874961495399475\n",
      "Epoch number: 1511 and the loss : 0.2546999454498291\n",
      "Epoch number: 1521 and the loss : 0.25139111280441284\n",
      "Epoch number: 1531 and the loss : 0.2520555853843689\n",
      "Epoch number: 1541 and the loss : 0.25957223773002625\n",
      "Epoch number: 1551 and the loss : 0.26796969771385193\n",
      "Epoch number: 1561 and the loss : 0.25660353899002075\n",
      "Epoch number: 1571 and the loss : 0.24691961705684662\n",
      "Epoch number: 1581 and the loss : 0.24388492107391357\n",
      "Epoch number: 1591 and the loss : 0.6043834686279297\n",
      "Epoch number: 1601 and the loss : 0.296835720539093\n",
      "Epoch number: 1611 and the loss : 0.27959638833999634\n",
      "Epoch number: 1621 and the loss : 0.261863112449646\n",
      "Epoch number: 1631 and the loss : 0.2517722547054291\n",
      "Epoch number: 1641 and the loss : 0.2453404814004898\n",
      "Epoch number: 1651 and the loss : 0.24290677905082703\n",
      "Epoch number: 1661 and the loss : 0.24128484725952148\n",
      "Epoch number: 1671 and the loss : 0.24143196642398834\n",
      "Epoch number: 1681 and the loss : 0.2397448718547821\n",
      "Epoch number: 1691 and the loss : 0.23840239644050598\n",
      "Epoch number: 1701 and the loss : 0.25636371970176697\n",
      "Epoch number: 1711 and the loss : 0.24856023490428925\n",
      "Epoch number: 1721 and the loss : 0.2375166416168213\n",
      "Epoch number: 1731 and the loss : 0.24480269849300385\n",
      "Epoch number: 1741 and the loss : 0.3057953715324402\n",
      "Epoch number: 1751 and the loss : 0.2530062794685364\n",
      "Epoch number: 1761 and the loss : 0.27500370144844055\n",
      "Epoch number: 1771 and the loss : 0.2554169297218323\n",
      "Epoch number: 1781 and the loss : 0.23723219335079193\n",
      "Epoch number: 1791 and the loss : 0.23557783663272858\n",
      "Epoch number: 1801 and the loss : 0.23198309540748596\n",
      "Epoch number: 1811 and the loss : 0.23067717254161835\n",
      "Epoch number: 1821 and the loss : 0.23473086953163147\n",
      "Epoch number: 1831 and the loss : 0.2352956235408783\n",
      "Epoch number: 1841 and the loss : 0.23184867203235626\n",
      "Epoch number: 1851 and the loss : 0.22785428166389465\n",
      "Epoch number: 1861 and the loss : 0.23366856575012207\n",
      "Epoch number: 1871 and the loss : 0.2270488142967224\n",
      "Epoch number: 1881 and the loss : 0.2389591485261917\n",
      "Epoch number: 1891 and the loss : 0.3619399964809418\n",
      "Epoch number: 1901 and the loss : 0.2595692276954651\n",
      "Epoch number: 1911 and the loss : 0.24635325372219086\n",
      "Epoch number: 1921 and the loss : 0.23979400098323822\n",
      "Epoch number: 1931 and the loss : 0.23288865387439728\n",
      "Epoch number: 1941 and the loss : 0.2273682802915573\n",
      "Epoch number: 1951 and the loss : 0.2265324592590332\n",
      "Epoch number: 1961 and the loss : 0.22457875311374664\n",
      "Epoch number: 1971 and the loss : 0.22321103513240814\n",
      "Epoch number: 1981 and the loss : 0.24202169477939606\n",
      "Epoch number: 1991 and the loss : 0.24473121762275696\n",
      "Epoch number: 2001 and the loss : 0.24841469526290894\n",
      "Epoch number: 2011 and the loss : 0.23295006155967712\n",
      "Epoch number: 2021 and the loss : 0.22554448246955872\n",
      "Epoch number: 2031 and the loss : 0.2249155193567276\n",
      "Epoch number: 2041 and the loss : 0.2206447720527649\n",
      "Epoch number: 2051 and the loss : 0.25441887974739075\n",
      "Epoch number: 2061 and the loss : 0.24853098392486572\n",
      "Epoch number: 2071 and the loss : 0.2855621576309204\n",
      "Epoch number: 2081 and the loss : 0.246476411819458\n",
      "Epoch number: 2091 and the loss : 0.23276165127754211\n",
      "Epoch number: 2101 and the loss : 0.220636248588562\n",
      "Epoch number: 2111 and the loss : 0.2191466987133026\n",
      "Epoch number: 2121 and the loss : 0.21719245612621307\n",
      "Epoch number: 2131 and the loss : 0.21490682661533356\n",
      "Epoch number: 2141 and the loss : 0.21343857049942017\n",
      "Epoch number: 2151 and the loss : 0.2227420061826706\n",
      "Epoch number: 2161 and the loss : 0.22616222500801086\n",
      "Epoch number: 2171 and the loss : 0.2162073701620102\n",
      "Epoch number: 2181 and the loss : 0.21482476592063904\n",
      "Epoch number: 2191 and the loss : 0.23487679660320282\n",
      "Epoch number: 2201 and the loss : 0.21470274031162262\n",
      "Epoch number: 2211 and the loss : 0.2115800529718399\n",
      "Epoch number: 2221 and the loss : 0.24972425401210785\n",
      "Epoch number: 2231 and the loss : 0.3053114414215088\n",
      "Epoch number: 2241 and the loss : 0.35658031702041626\n",
      "Epoch number: 2251 and the loss : 0.26409411430358887\n",
      "Epoch number: 2261 and the loss : 0.238377183675766\n",
      "Epoch number: 2271 and the loss : 0.2214079350233078\n",
      "Epoch number: 2281 and the loss : 0.2188248485326767\n",
      "Epoch number: 2291 and the loss : 0.2157546579837799\n",
      "Epoch number: 2301 and the loss : 0.21330596506595612\n",
      "Epoch number: 2311 and the loss : 0.2117033451795578\n",
      "Epoch number: 2321 and the loss : 0.21084746718406677\n",
      "Epoch number: 2331 and the loss : 0.21042726933956146\n",
      "Epoch number: 2341 and the loss : 0.20857782661914825\n",
      "Epoch number: 2351 and the loss : 0.20792299509048462\n",
      "Epoch number: 2361 and the loss : 0.2063453048467636\n",
      "Epoch number: 2371 and the loss : 0.20482058823108673\n",
      "Epoch number: 2381 and the loss : 0.20529870688915253\n",
      "Epoch number: 2391 and the loss : 0.235478013753891\n",
      "Epoch number: 2401 and the loss : 0.20905300974845886\n",
      "Epoch number: 2411 and the loss : 0.20456361770629883\n",
      "Epoch number: 2421 and the loss : 0.21076485514640808\n",
      "Epoch number: 2431 and the loss : 0.29066574573516846\n",
      "Epoch number: 2441 and the loss : 0.20903350412845612\n",
      "Epoch number: 2451 and the loss : 0.22177180647850037\n",
      "Epoch number: 2461 and the loss : 0.21341633796691895\n",
      "Epoch number: 2471 and the loss : 0.19841426610946655\n",
      "Epoch number: 2481 and the loss : 0.2318354845046997\n",
      "Epoch number: 2491 and the loss : 0.2114688754081726\n",
      "Epoch number: 2501 and the loss : 0.21137085556983948\n",
      "Epoch number: 2511 and the loss : 0.20186972618103027\n",
      "Epoch number: 2521 and the loss : 0.20159924030303955\n",
      "Epoch number: 2531 and the loss : 0.26801806688308716\n",
      "Epoch number: 2541 and the loss : 0.5642116665840149\n",
      "Epoch number: 2551 and the loss : 0.4325929284095764\n",
      "Epoch number: 2561 and the loss : 0.25442975759506226\n",
      "Epoch number: 2571 and the loss : 0.21362970769405365\n",
      "Epoch number: 2581 and the loss : 0.20281945168972015\n",
      "Epoch number: 2591 and the loss : 0.1987086534500122\n",
      "Epoch number: 2601 and the loss : 0.19517582654953003\n",
      "Epoch number: 2611 and the loss : 0.1922849863767624\n",
      "Epoch number: 2621 and the loss : 0.1924767792224884\n",
      "Epoch number: 2631 and the loss : 0.19257286190986633\n",
      "Epoch number: 2641 and the loss : 0.189308300614357\n",
      "Epoch number: 2651 and the loss : 0.1907498985528946\n",
      "Epoch number: 2661 and the loss : 0.1901073455810547\n",
      "Epoch number: 2671 and the loss : 0.18939392268657684\n",
      "Epoch number: 2681 and the loss : 0.18758942186832428\n",
      "Epoch number: 2691 and the loss : 0.1890685111284256\n",
      "Epoch number: 2701 and the loss : 0.3467361629009247\n",
      "Epoch number: 2711 and the loss : 0.36030691862106323\n",
      "Epoch number: 2721 and the loss : 0.26399073004722595\n",
      "Epoch number: 2731 and the loss : 0.2567291855812073\n",
      "Epoch number: 2741 and the loss : 0.23846063017845154\n",
      "Epoch number: 2751 and the loss : 0.21754828095436096\n",
      "Epoch number: 2761 and the loss : 0.21569474041461945\n",
      "Epoch number: 2771 and the loss : 0.2143278867006302\n",
      "Epoch number: 2781 and the loss : 0.21360443532466888\n",
      "Epoch number: 2791 and the loss : 0.2077047973871231\n",
      "Epoch number: 2801 and the loss : 0.20346404612064362\n",
      "Epoch number: 2811 and the loss : 0.21378038823604584\n",
      "Epoch number: 2821 and the loss : 0.20196223258972168\n",
      "Epoch number: 2831 and the loss : 0.19836458563804626\n",
      "Epoch number: 2841 and the loss : 0.2040303647518158\n",
      "Epoch number: 2851 and the loss : 0.20235836505889893\n",
      "Epoch number: 2861 and the loss : 0.19640207290649414\n",
      "Epoch number: 2871 and the loss : 0.21062421798706055\n",
      "Epoch number: 2881 and the loss : 0.19704370200634003\n",
      "Epoch number: 2891 and the loss : 0.20765098929405212\n",
      "Epoch number: 2901 and the loss : 0.20865973830223083\n",
      "Epoch number: 2911 and the loss : 0.19773221015930176\n",
      "Epoch number: 2921 and the loss : 0.21342188119888306\n",
      "Epoch number: 2931 and the loss : 0.1992807388305664\n",
      "Epoch number: 2941 and the loss : 0.1917373239994049\n",
      "Epoch number: 2951 and the loss : 0.23886485397815704\n",
      "Epoch number: 2961 and the loss : 0.19495242834091187\n",
      "Epoch number: 2971 and the loss : 0.22344587743282318\n",
      "Epoch number: 2981 and the loss : 0.21187879145145416\n",
      "Epoch number: 2991 and the loss : 0.18996798992156982\n",
      "Epoch number: 3001 and the loss : 0.19577372074127197\n",
      "Epoch number: 3011 and the loss : 0.18341439962387085\n",
      "Epoch number: 3021 and the loss : 0.18125878274440765\n",
      "Epoch number: 3031 and the loss : 0.18784894049167633\n",
      "Epoch number: 3041 and the loss : 0.18406793475151062\n",
      "Epoch number: 3051 and the loss : 0.19319979846477509\n",
      "Epoch number: 3061 and the loss : 0.17743712663650513\n",
      "Epoch number: 3071 and the loss : 0.21744444966316223\n",
      "Epoch number: 3081 and the loss : 0.21087104082107544\n",
      "Epoch number: 3091 and the loss : 0.18901562690734863\n",
      "Epoch number: 3101 and the loss : 0.17376606166362762\n",
      "Epoch number: 3111 and the loss : 0.20882204174995422\n",
      "Epoch number: 3121 and the loss : 0.20832350850105286\n",
      "Epoch number: 3131 and the loss : 0.1889781653881073\n",
      "Epoch number: 3141 and the loss : 0.19635972380638123\n",
      "Epoch number: 3151 and the loss : 0.18016229569911957\n",
      "Epoch number: 3161 and the loss : 0.18646733462810516\n",
      "Epoch number: 3171 and the loss : 0.17639173567295074\n",
      "Epoch number: 3181 and the loss : 0.16842427849769592\n",
      "Epoch number: 3191 and the loss : 0.2197015881538391\n",
      "Epoch number: 3201 and the loss : 0.22824817895889282\n",
      "Epoch number: 3211 and the loss : 0.28077900409698486\n",
      "Epoch number: 3221 and the loss : 0.2075953334569931\n",
      "Epoch number: 3231 and the loss : 0.18718139827251434\n",
      "Epoch number: 3241 and the loss : 0.22767870128154755\n",
      "Epoch number: 3251 and the loss : 0.2113785594701767\n",
      "Epoch number: 3261 and the loss : 0.19673188030719757\n",
      "Epoch number: 3271 and the loss : 0.17839914560317993\n",
      "Epoch number: 3281 and the loss : 0.17027832567691803\n",
      "Epoch number: 3291 and the loss : 0.16470807790756226\n",
      "Epoch number: 3301 and the loss : 0.16140958666801453\n",
      "Epoch number: 3311 and the loss : 0.1603248119354248\n",
      "Epoch number: 3321 and the loss : 0.16012240946292877\n",
      "Epoch number: 3331 and the loss : 0.15760140120983124\n",
      "Epoch number: 3341 and the loss : 0.17312072217464447\n",
      "Epoch number: 3351 and the loss : 0.17352208495140076\n",
      "Epoch number: 3361 and the loss : 0.16576023399829865\n",
      "Epoch number: 3371 and the loss : 0.17750149965286255\n",
      "Epoch number: 3381 and the loss : 0.2973116636276245\n",
      "Epoch number: 3391 and the loss : 0.21152153611183167\n",
      "Epoch number: 3401 and the loss : 0.17873181402683258\n",
      "Epoch number: 3411 and the loss : 0.1781386137008667\n",
      "Epoch number: 3421 and the loss : 0.16346052289009094\n",
      "Epoch number: 3431 and the loss : 0.15290988981723785\n",
      "Epoch number: 3441 and the loss : 0.1520097255706787\n",
      "Epoch number: 3451 and the loss : 0.15048125386238098\n",
      "Epoch number: 3461 and the loss : 0.1490378975868225\n",
      "Epoch number: 3471 and the loss : 0.1534256637096405\n",
      "Epoch number: 3481 and the loss : 0.14794738590717316\n",
      "Epoch number: 3491 and the loss : 0.1708388775587082\n",
      "Epoch number: 3501 and the loss : 0.15596291422843933\n",
      "Epoch number: 3511 and the loss : 0.1610938161611557\n",
      "Epoch number: 3521 and the loss : 0.14668644964694977\n",
      "Epoch number: 3531 and the loss : 0.28154364228248596\n",
      "Epoch number: 3541 and the loss : 0.3320339322090149\n",
      "Epoch number: 3551 and the loss : 0.2198369801044464\n",
      "Epoch number: 3561 and the loss : 0.19943323731422424\n",
      "Epoch number: 3571 and the loss : 0.16784316301345825\n",
      "Epoch number: 3581 and the loss : 0.1587151139974594\n",
      "Epoch number: 3591 and the loss : 0.15523193776607513\n",
      "Epoch number: 3601 and the loss : 0.15345154702663422\n",
      "Epoch number: 3611 and the loss : 0.151808500289917\n",
      "Epoch number: 3621 and the loss : 0.15143804252147675\n",
      "Epoch number: 3631 and the loss : 0.14971691370010376\n",
      "Epoch number: 3641 and the loss : 0.14828652143478394\n",
      "Epoch number: 3651 and the loss : 0.14726878702640533\n",
      "Epoch number: 3661 and the loss : 0.15371417999267578\n",
      "Epoch number: 3671 and the loss : 0.15582095086574554\n",
      "Epoch number: 3681 and the loss : 0.16170169413089752\n",
      "Epoch number: 3691 and the loss : 0.163559228181839\n",
      "Epoch number: 3701 and the loss : 0.1936294436454773\n",
      "Epoch number: 3711 and the loss : 0.1894291341304779\n",
      "Epoch number: 3721 and the loss : 0.15802094340324402\n",
      "Epoch number: 3731 and the loss : 0.16468749940395355\n",
      "Epoch number: 3741 and the loss : 0.1558496505022049\n",
      "Epoch number: 3751 and the loss : 0.14731398224830627\n",
      "Epoch number: 3761 and the loss : 0.14570149779319763\n",
      "Epoch number: 3771 and the loss : 0.1432400345802307\n",
      "Epoch number: 3781 and the loss : 0.15175361931324005\n",
      "Epoch number: 3791 and the loss : 0.17639513313770294\n",
      "Epoch number: 3801 and the loss : 0.16742537915706635\n",
      "Epoch number: 3811 and the loss : 0.16656754910945892\n",
      "Epoch number: 3821 and the loss : 0.14518126845359802\n",
      "Epoch number: 3831 and the loss : 0.144163578748703\n",
      "Epoch number: 3841 and the loss : 0.14602607488632202\n",
      "Epoch number: 3851 and the loss : 0.1591789722442627\n",
      "Epoch number: 3861 and the loss : 0.14285407960414886\n",
      "Epoch number: 3871 and the loss : 0.1563999056816101\n",
      "Epoch number: 3881 and the loss : 0.16209527850151062\n",
      "Epoch number: 3891 and the loss : 0.1382075697183609\n",
      "Epoch number: 3901 and the loss : 0.16308274865150452\n",
      "Epoch number: 3911 and the loss : 0.20966045558452606\n",
      "Epoch number: 3921 and the loss : 0.22679942846298218\n",
      "Epoch number: 3931 and the loss : 0.2501676678657532\n",
      "Epoch number: 3941 and the loss : 0.1730017215013504\n",
      "Epoch number: 3951 and the loss : 0.14707040786743164\n",
      "Epoch number: 3961 and the loss : 0.14469151198863983\n",
      "Epoch number: 3971 and the loss : 0.1398448497056961\n",
      "Epoch number: 3981 and the loss : 0.1346868872642517\n",
      "Epoch number: 3991 and the loss : 0.14907528460025787\n",
      "Epoch number: 4001 and the loss : 0.13962914049625397\n",
      "Epoch number: 4011 and the loss : 0.1295779049396515\n",
      "Epoch number: 4021 and the loss : 0.1271059662103653\n",
      "Epoch number: 4031 and the loss : 0.1258130520582199\n",
      "Epoch number: 4041 and the loss : 0.13576607406139374\n",
      "Epoch number: 4051 and the loss : 0.3712425231933594\n",
      "Epoch number: 4061 and the loss : 0.3736785054206848\n",
      "Epoch number: 4071 and the loss : 0.23928289115428925\n",
      "Epoch number: 4081 and the loss : 0.18886855244636536\n",
      "Epoch number: 4091 and the loss : 0.15709061920642853\n",
      "Epoch number: 4101 and the loss : 0.1452789306640625\n",
      "Epoch number: 4111 and the loss : 0.13788025081157684\n",
      "Epoch number: 4121 and the loss : 0.1335890144109726\n",
      "Epoch number: 4131 and the loss : 0.1304522156715393\n",
      "Epoch number: 4141 and the loss : 0.1287718117237091\n",
      "Epoch number: 4151 and the loss : 0.1274581253528595\n",
      "Epoch number: 4161 and the loss : 0.1265162080526352\n",
      "Epoch number: 4171 and the loss : 0.12561950087547302\n",
      "Epoch number: 4181 and the loss : 0.12498092651367188\n",
      "Epoch number: 4191 and the loss : 0.12460308521986008\n",
      "Epoch number: 4201 and the loss : 0.12444169074296951\n",
      "Epoch number: 4211 and the loss : 0.1254212111234665\n",
      "Epoch number: 4221 and the loss : 0.12608082592487335\n",
      "Epoch number: 4231 and the loss : 0.12938615679740906\n",
      "Epoch number: 4241 and the loss : 0.12250269949436188\n",
      "Epoch number: 4251 and the loss : 0.1389123648405075\n",
      "Epoch number: 4261 and the loss : 0.20829671621322632\n",
      "Epoch number: 4271 and the loss : 0.27632269263267517\n",
      "Epoch number: 4281 and the loss : 0.16682910919189453\n",
      "Epoch number: 4291 and the loss : 0.17956328392028809\n",
      "Epoch number: 4301 and the loss : 0.16395209729671478\n",
      "Epoch number: 4311 and the loss : 0.13991670310497284\n",
      "Epoch number: 4321 and the loss : 0.1306120753288269\n",
      "Epoch number: 4331 and the loss : 0.12602145969867706\n",
      "Epoch number: 4341 and the loss : 0.12195270508527756\n",
      "Epoch number: 4351 and the loss : 0.1201796904206276\n",
      "Epoch number: 4361 and the loss : 0.11957290023565292\n",
      "Epoch number: 4371 and the loss : 0.11870972812175751\n",
      "Epoch number: 4381 and the loss : 0.11878509074449539\n",
      "Epoch number: 4391 and the loss : 0.11742691695690155\n",
      "Epoch number: 4401 and the loss : 0.11677311360836029\n",
      "Epoch number: 4411 and the loss : 0.11560734361410141\n",
      "Epoch number: 4421 and the loss : 0.11757341772317886\n",
      "Epoch number: 4431 and the loss : 0.11826609075069427\n",
      "Epoch number: 4441 and the loss : 0.1372063159942627\n",
      "Epoch number: 4451 and the loss : 0.12343167513608932\n",
      "Epoch number: 4461 and the loss : 0.11733419448137283\n",
      "Epoch number: 4471 and the loss : 0.12437969446182251\n",
      "Epoch number: 4481 and the loss : 0.12373854964971542\n",
      "Epoch number: 4491 and the loss : 0.11517481505870819\n",
      "Epoch number: 4501 and the loss : 0.14798079431056976\n",
      "Epoch number: 4511 and the loss : 0.12488438189029694\n",
      "Epoch number: 4521 and the loss : 0.11187516897916794\n",
      "Epoch number: 4531 and the loss : 0.12654031813144684\n",
      "Epoch number: 4541 and the loss : 0.2268339842557907\n",
      "Epoch number: 4551 and the loss : 0.24264861643314362\n",
      "Epoch number: 4561 and the loss : 0.20312470197677612\n",
      "Epoch number: 4571 and the loss : 0.13843749463558197\n",
      "Epoch number: 4581 and the loss : 0.12246102839708328\n",
      "Epoch number: 4591 and the loss : 0.11790274828672409\n",
      "Epoch number: 4601 and the loss : 0.11475878208875656\n",
      "Epoch number: 4611 and the loss : 0.11294455081224442\n",
      "Epoch number: 4621 and the loss : 0.11140640825033188\n",
      "Epoch number: 4631 and the loss : 0.11084885150194168\n",
      "Epoch number: 4641 and the loss : 0.10962171107530594\n",
      "Epoch number: 4651 and the loss : 0.10913442820310593\n",
      "Epoch number: 4661 and the loss : 0.10823572427034378\n",
      "Epoch number: 4671 and the loss : 0.1091335341334343\n",
      "Epoch number: 4681 and the loss : 0.10756088048219681\n",
      "Epoch number: 4691 and the loss : 0.1073869988322258\n",
      "Epoch number: 4701 and the loss : 0.16841363906860352\n",
      "Epoch number: 4711 and the loss : 0.18522894382476807\n",
      "Epoch number: 4721 and the loss : 0.1412946730852127\n",
      "Epoch number: 4731 and the loss : 0.11591214686632156\n",
      "Epoch number: 4741 and the loss : 0.11106260865926743\n",
      "Epoch number: 4751 and the loss : 0.11904635280370712\n",
      "Epoch number: 4761 and the loss : 0.10573387891054153\n",
      "Epoch number: 4771 and the loss : 0.10852385312318802\n",
      "Epoch number: 4781 and the loss : 0.1068352460861206\n",
      "Epoch number: 4791 and the loss : 0.10364905744791031\n",
      "Epoch number: 4801 and the loss : 0.1207955926656723\n",
      "Epoch number: 4811 and the loss : 0.10903546959161758\n",
      "Epoch number: 4821 and the loss : 0.12319229543209076\n",
      "Epoch number: 4831 and the loss : 0.1053881049156189\n",
      "Epoch number: 4841 and the loss : 0.10389116406440735\n",
      "Epoch number: 4851 and the loss : 0.10405003279447556\n",
      "Epoch number: 4861 and the loss : 0.13918283581733704\n",
      "Epoch number: 4871 and the loss : 0.5683655142784119\n",
      "Epoch number: 4881 and the loss : 0.2613849937915802\n",
      "Epoch number: 4891 and the loss : 0.18138717114925385\n",
      "Epoch number: 4901 and the loss : 0.15128245949745178\n",
      "Epoch number: 4911 and the loss : 0.13458554446697235\n",
      "Epoch number: 4921 and the loss : 0.12377574294805527\n",
      "Epoch number: 4931 and the loss : 0.11924682557582855\n",
      "Epoch number: 4941 and the loss : 0.11765465885400772\n",
      "Epoch number: 4951 and the loss : 0.11486680805683136\n",
      "Epoch number: 4961 and the loss : 0.11359210312366486\n",
      "Epoch number: 4971 and the loss : 0.11261098086833954\n",
      "Epoch number: 4981 and the loss : 0.1114536002278328\n",
      "Epoch number: 4991 and the loss : 0.11093586683273315\n",
      "Epoch number: 5001 and the loss : 0.11177144944667816\n",
      "Epoch number: 5011 and the loss : 0.10971515625715256\n",
      "Epoch number: 5021 and the loss : 0.11555613577365875\n",
      "Epoch number: 5031 and the loss : 0.10876151919364929\n",
      "Epoch number: 5041 and the loss : 0.12628567218780518\n",
      "Epoch number: 5051 and the loss : 0.11931940913200378\n",
      "Epoch number: 5061 and the loss : 0.10679600387811661\n",
      "Epoch number: 5071 and the loss : 0.13382002711296082\n",
      "Epoch number: 5081 and the loss : 0.15527001023292542\n",
      "Epoch number: 5091 and the loss : 0.1148935854434967\n",
      "Epoch number: 5101 and the loss : 0.13561131060123444\n",
      "Epoch number: 5111 and the loss : 0.1422521471977234\n",
      "Epoch number: 5121 and the loss : 0.1349194496870041\n",
      "Epoch number: 5131 and the loss : 0.13189499080181122\n",
      "Epoch number: 5141 and the loss : 0.13501137495040894\n",
      "Epoch number: 5151 and the loss : 0.1587170660495758\n",
      "Epoch number: 5161 and the loss : 0.12130026519298553\n",
      "Epoch number: 5171 and the loss : 0.11624355614185333\n",
      "Epoch number: 5181 and the loss : 0.1097835972905159\n",
      "Epoch number: 5191 and the loss : 0.10598337650299072\n",
      "Epoch number: 5201 and the loss : 0.10600816458463669\n",
      "Epoch number: 5211 and the loss : 0.10280588269233704\n",
      "Epoch number: 5221 and the loss : 0.10372467339038849\n",
      "Epoch number: 5231 and the loss : 0.1356874257326126\n",
      "Epoch number: 5241 and the loss : 0.13635240495204926\n",
      "Epoch number: 5251 and the loss : 0.10828859359025955\n",
      "Epoch number: 5261 and the loss : 0.10497921705245972\n",
      "Epoch number: 5271 and the loss : 0.10380522906780243\n",
      "Epoch number: 5281 and the loss : 0.10509490966796875\n",
      "Epoch number: 5291 and the loss : 0.11474139988422394\n",
      "Epoch number: 5301 and the loss : 0.13033246994018555\n",
      "Epoch number: 5311 and the loss : 0.12219725549221039\n",
      "Epoch number: 5321 and the loss : 0.11593300849199295\n",
      "Epoch number: 5331 and the loss : 0.10413376241922379\n",
      "Epoch number: 5341 and the loss : 0.10577085614204407\n",
      "Epoch number: 5351 and the loss : 0.11302546411752701\n",
      "Epoch number: 5361 and the loss : 0.21824805438518524\n",
      "Epoch number: 5371 and the loss : 0.3299977481365204\n",
      "Epoch number: 5381 and the loss : 0.23253747820854187\n",
      "Epoch number: 5391 and the loss : 0.18283730745315552\n",
      "Epoch number: 5401 and the loss : 0.13506388664245605\n",
      "Epoch number: 5411 and the loss : 0.1426830291748047\n",
      "Epoch number: 5421 and the loss : 0.11698511242866516\n",
      "Epoch number: 5431 and the loss : 0.1103893369436264\n",
      "Epoch number: 5441 and the loss : 0.10676751285791397\n",
      "Epoch number: 5451 and the loss : 0.11050731688737869\n",
      "Epoch number: 5461 and the loss : 0.10463067144155502\n",
      "Epoch number: 5471 and the loss : 0.10424153506755829\n",
      "Epoch number: 5481 and the loss : 0.10227486491203308\n",
      "Epoch number: 5491 and the loss : 0.10234033316373825\n",
      "Epoch number: 5501 and the loss : 0.10822339355945587\n",
      "Epoch number: 5511 and the loss : 0.10227244347333908\n",
      "Epoch number: 5521 and the loss : 0.10747271031141281\n",
      "Epoch number: 5531 and the loss : 0.10620636492967606\n",
      "Epoch number: 5541 and the loss : 0.11640790849924088\n",
      "Epoch number: 5551 and the loss : 0.10341240465641022\n",
      "Epoch number: 5561 and the loss : 0.10275287926197052\n",
      "Epoch number: 5571 and the loss : 0.10398305952548981\n",
      "Epoch number: 5581 and the loss : 0.09845788031816483\n",
      "Epoch number: 5591 and the loss : 0.11103015393018723\n",
      "Epoch number: 5601 and the loss : 0.10556422919034958\n",
      "Epoch number: 5611 and the loss : 0.1030125766992569\n",
      "Epoch number: 5621 and the loss : 0.4638250470161438\n",
      "Epoch number: 5631 and the loss : 0.4248921573162079\n",
      "Epoch number: 5641 and the loss : 0.31847503781318665\n",
      "Epoch number: 5651 and the loss : 0.22431252896785736\n",
      "Epoch number: 5661 and the loss : 0.18655440211296082\n",
      "Epoch number: 5671 and the loss : 0.18709231913089752\n",
      "Epoch number: 5681 and the loss : 0.13020114600658417\n",
      "Epoch number: 5691 and the loss : 0.11661051213741302\n",
      "Epoch number: 5701 and the loss : 0.11244544386863708\n",
      "Epoch number: 5711 and the loss : 0.10597694665193558\n",
      "Epoch number: 5721 and the loss : 0.10263372957706451\n",
      "Epoch number: 5731 and the loss : 0.09996270388364792\n",
      "Epoch number: 5741 and the loss : 0.09920156002044678\n",
      "Epoch number: 5751 and the loss : 0.0975857675075531\n",
      "Epoch number: 5761 and the loss : 0.09704592078924179\n",
      "Epoch number: 5771 and the loss : 0.09638750553131104\n",
      "Epoch number: 5781 and the loss : 0.09515165537595749\n",
      "Epoch number: 5791 and the loss : 0.09471385180950165\n",
      "Epoch number: 5801 and the loss : 0.09495211392641068\n",
      "Epoch number: 5811 and the loss : 0.0938463807106018\n",
      "Epoch number: 5821 and the loss : 0.0935426652431488\n",
      "Epoch number: 5831 and the loss : 0.09322629123926163\n",
      "Epoch number: 5841 and the loss : 0.09338264167308807\n",
      "Epoch number: 5851 and the loss : 0.09271688014268875\n",
      "Epoch number: 5861 and the loss : 0.10085274279117584\n",
      "Epoch number: 5871 and the loss : 0.096483513712883\n",
      "Epoch number: 5881 and the loss : 0.09701833873987198\n",
      "Epoch number: 5891 and the loss : 0.09520196169614792\n",
      "Epoch number: 5901 and the loss : 0.10248322784900665\n",
      "Epoch number: 5911 and the loss : 0.09362953156232834\n",
      "Epoch number: 5921 and the loss : 0.16015955805778503\n",
      "Epoch number: 5931 and the loss : 0.12587270140647888\n",
      "Epoch number: 5941 and the loss : 0.11262242496013641\n",
      "Epoch number: 5951 and the loss : 0.09180425852537155\n",
      "Epoch number: 5961 and the loss : 0.09662691503763199\n",
      "Epoch number: 5971 and the loss : 0.09844958782196045\n",
      "Epoch number: 5981 and the loss : 0.08960764110088348\n",
      "Epoch number: 5991 and the loss : 0.09409715235233307\n",
      "Epoch number: 6001 and the loss : 0.09384345263242722\n",
      "Epoch number: 6011 and the loss : 0.09235987812280655\n",
      "Epoch number: 6021 and the loss : 0.18188025057315826\n",
      "Epoch number: 6031 and the loss : 0.12198709696531296\n",
      "Epoch number: 6041 and the loss : 0.09063129872083664\n",
      "Epoch number: 6051 and the loss : 0.10186603665351868\n",
      "Epoch number: 6061 and the loss : 0.08985207974910736\n",
      "Epoch number: 6071 and the loss : 0.08615485578775406\n",
      "Epoch number: 6081 and the loss : 0.09261398762464523\n",
      "Epoch number: 6091 and the loss : 0.18396295607089996\n",
      "Epoch number: 6101 and the loss : 0.09284497052431107\n",
      "Epoch number: 6111 and the loss : 0.09952264279127121\n",
      "Epoch number: 6121 and the loss : 0.08728698641061783\n",
      "Epoch number: 6131 and the loss : 0.0849938616156578\n",
      "Epoch number: 6141 and the loss : 0.08406569808721542\n",
      "Epoch number: 6151 and the loss : 0.08507312834262848\n",
      "Epoch number: 6161 and the loss : 0.16348423063755035\n",
      "Epoch number: 6171 and the loss : 0.5202419757843018\n",
      "Epoch number: 6181 and the loss : 0.22162367403507233\n",
      "Epoch number: 6191 and the loss : 0.14927616715431213\n",
      "Epoch number: 6201 and the loss : 0.11999012529850006\n",
      "Epoch number: 6211 and the loss : 0.09955979883670807\n",
      "Epoch number: 6221 and the loss : 0.0928587093949318\n",
      "Epoch number: 6231 and the loss : 0.08831804990768433\n",
      "Epoch number: 6241 and the loss : 0.08530084043741226\n",
      "Epoch number: 6251 and the loss : 0.08579184859991074\n",
      "Epoch number: 6261 and the loss : 0.08321171998977661\n",
      "Epoch number: 6271 and the loss : 0.0845721885561943\n",
      "Epoch number: 6281 and the loss : 0.08228479325771332\n",
      "Epoch number: 6291 and the loss : 0.082163006067276\n",
      "Epoch number: 6301 and the loss : 0.08188623934984207\n",
      "Epoch number: 6311 and the loss : 0.08069915324449539\n",
      "Epoch number: 6321 and the loss : 0.08095347136259079\n",
      "Epoch number: 6331 and the loss : 0.08001574873924255\n",
      "Epoch number: 6341 and the loss : 0.08287610113620758\n",
      "Epoch number: 6351 and the loss : 0.12189880013465881\n",
      "Epoch number: 6361 and the loss : 0.09901954233646393\n",
      "Epoch number: 6371 and the loss : 0.08367087692022324\n",
      "Epoch number: 6381 and the loss : 0.09280262887477875\n",
      "Epoch number: 6391 and the loss : 0.08369811624288559\n",
      "Epoch number: 6401 and the loss : 0.08179693669080734\n",
      "Epoch number: 6411 and the loss : 0.08121269196271896\n",
      "Epoch number: 6421 and the loss : 0.23010100424289703\n",
      "Epoch number: 6431 and the loss : 0.57603919506073\n",
      "Epoch number: 6441 and the loss : 0.28104695677757263\n",
      "Epoch number: 6451 and the loss : 0.13392139971256256\n",
      "Epoch number: 6461 and the loss : 0.13714797794818878\n",
      "Epoch number: 6471 and the loss : 0.20767956972122192\n",
      "Epoch number: 6481 and the loss : 0.13780702650547028\n",
      "Epoch number: 6491 and the loss : 0.09505937993526459\n",
      "Epoch number: 6501 and the loss : 0.09047903120517731\n",
      "Epoch number: 6511 and the loss : 0.08343394100666046\n",
      "Epoch number: 6521 and the loss : 0.08178699016571045\n",
      "Epoch number: 6531 and the loss : 0.08054859191179276\n",
      "Epoch number: 6541 and the loss : 0.07917296886444092\n",
      "Epoch number: 6551 and the loss : 0.0784885361790657\n",
      "Epoch number: 6561 and the loss : 0.07763789594173431\n",
      "Epoch number: 6571 and the loss : 0.07744790613651276\n",
      "Epoch number: 6581 and the loss : 0.07829200476408005\n",
      "Epoch number: 6591 and the loss : 0.07665317505598068\n",
      "Epoch number: 6601 and the loss : 0.07620591670274734\n",
      "Epoch number: 6611 and the loss : 0.07659449428319931\n",
      "Epoch number: 6621 and the loss : 0.07612758129835129\n",
      "Epoch number: 6631 and the loss : 0.07707283645868301\n",
      "Epoch number: 6641 and the loss : 0.0780477523803711\n",
      "Epoch number: 6651 and the loss : 0.08573060482740402\n",
      "Epoch number: 6661 and the loss : 0.0746578499674797\n",
      "Epoch number: 6671 and the loss : 0.10838375240564346\n",
      "Epoch number: 6681 and the loss : 0.15319105982780457\n",
      "Epoch number: 6691 and the loss : 0.16115154325962067\n",
      "Epoch number: 6701 and the loss : 0.09224683791399002\n",
      "Epoch number: 6711 and the loss : 0.09150589257478714\n",
      "Epoch number: 6721 and the loss : 0.08064354211091995\n",
      "Epoch number: 6731 and the loss : 0.07692240178585052\n",
      "Epoch number: 6741 and the loss : 0.07483415305614471\n",
      "Epoch number: 6751 and the loss : 0.07441136986017227\n",
      "Epoch number: 6761 and the loss : 0.07336486130952835\n",
      "Epoch number: 6771 and the loss : 0.07408492267131805\n",
      "Epoch number: 6781 and the loss : 0.07227892428636551\n",
      "Epoch number: 6791 and the loss : 0.0724298283457756\n",
      "Epoch number: 6801 and the loss : 0.0733146071434021\n",
      "Epoch number: 6811 and the loss : 0.07189349830150604\n",
      "Epoch number: 6821 and the loss : 0.07153687626123428\n",
      "Epoch number: 6831 and the loss : 0.0717567577958107\n",
      "Epoch number: 6841 and the loss : 0.0710902214050293\n",
      "Epoch number: 6851 and the loss : 0.12497564405202866\n",
      "Epoch number: 6861 and the loss : 0.20891128480434418\n",
      "Epoch number: 6871 and the loss : 0.2043912559747696\n",
      "Epoch number: 6881 and the loss : 0.1358070820569992\n",
      "Epoch number: 6891 and the loss : 0.08839387446641922\n",
      "Epoch number: 6901 and the loss : 0.08426059037446976\n",
      "Epoch number: 6911 and the loss : 0.07602515071630478\n",
      "Epoch number: 6921 and the loss : 0.07454641163349152\n",
      "Epoch number: 6931 and the loss : 0.07239095121622086\n",
      "Epoch number: 6941 and the loss : 0.0724680945277214\n",
      "Epoch number: 6951 and the loss : 0.07147577404975891\n",
      "Epoch number: 6961 and the loss : 0.07110080868005753\n",
      "Epoch number: 6971 and the loss : 0.07200845330953598\n",
      "Epoch number: 6981 and the loss : 0.0705961287021637\n",
      "Epoch number: 6991 and the loss : 0.07000566273927689\n",
      "Epoch number: 7001 and the loss : 0.07112452387809753\n",
      "Epoch number: 7011 and the loss : 0.06897009164094925\n",
      "Epoch number: 7021 and the loss : 0.06966368108987808\n",
      "Epoch number: 7031 and the loss : 0.07083823531866074\n",
      "Epoch number: 7041 and the loss : 0.06881435215473175\n",
      "Epoch number: 7051 and the loss : 0.0749257430434227\n",
      "Epoch number: 7061 and the loss : 0.6475448608398438\n",
      "Epoch number: 7071 and the loss : 0.45285743474960327\n",
      "Epoch number: 7081 and the loss : 0.22254441678524017\n",
      "Epoch number: 7091 and the loss : 0.2285636067390442\n",
      "Epoch number: 7101 and the loss : 0.13660740852355957\n",
      "Epoch number: 7111 and the loss : 0.09335920959711075\n",
      "Epoch number: 7121 and the loss : 0.0860142931342125\n",
      "Epoch number: 7131 and the loss : 0.07953492552042007\n",
      "Epoch number: 7141 and the loss : 0.07537797093391418\n",
      "Epoch number: 7151 and the loss : 0.07355106621980667\n",
      "Epoch number: 7161 and the loss : 0.07239986956119537\n",
      "Epoch number: 7171 and the loss : 0.0717085674405098\n",
      "Epoch number: 7181 and the loss : 0.07077356427907944\n",
      "Epoch number: 7191 and the loss : 0.0700121745467186\n",
      "Epoch number: 7201 and the loss : 0.06908179819583893\n",
      "Epoch number: 7211 and the loss : 0.07027199864387512\n",
      "Epoch number: 7221 and the loss : 0.06841390579938889\n",
      "Epoch number: 7231 and the loss : 0.06809602677822113\n",
      "Epoch number: 7241 and the loss : 0.06694013625383377\n",
      "Epoch number: 7251 and the loss : 0.06708041578531265\n",
      "Epoch number: 7261 and the loss : 0.06768131256103516\n",
      "Epoch number: 7271 and the loss : 0.06625556200742722\n",
      "Epoch number: 7281 and the loss : 0.06615745276212692\n",
      "Epoch number: 7291 and the loss : 0.06577729433774948\n",
      "Epoch number: 7301 and the loss : 0.06564029306173325\n",
      "Epoch number: 7311 and the loss : 0.06895413994789124\n",
      "Epoch number: 7321 and the loss : 0.10369423776865005\n",
      "Epoch number: 7331 and the loss : 0.0879412591457367\n",
      "Epoch number: 7341 and the loss : 0.09186472743749619\n",
      "Epoch number: 7351 and the loss : 0.11608963459730148\n",
      "Epoch number: 7361 and the loss : 0.06919397413730621\n",
      "Epoch number: 7371 and the loss : 0.11976213753223419\n",
      "Epoch number: 7381 and the loss : 0.11877631396055222\n",
      "Epoch number: 7391 and the loss : 0.12535695731639862\n",
      "Epoch number: 7401 and the loss : 0.16331036388874054\n",
      "Epoch number: 7411 and the loss : 0.12637494504451752\n",
      "Epoch number: 7421 and the loss : 0.11201462149620056\n",
      "Epoch number: 7431 and the loss : 0.0798642560839653\n",
      "Epoch number: 7441 and the loss : 0.0743487998843193\n",
      "Epoch number: 7451 and the loss : 0.07026629149913788\n",
      "Epoch number: 7461 and the loss : 0.06563936918973923\n",
      "Epoch number: 7471 and the loss : 0.06541576236486435\n",
      "Epoch number: 7481 and the loss : 0.06344150751829147\n",
      "Epoch number: 7491 and the loss : 0.06373290717601776\n",
      "Epoch number: 7501 and the loss : 0.06375802308320999\n",
      "Epoch number: 7511 and the loss : 0.06244592368602753\n",
      "Epoch number: 7521 and the loss : 0.06140626221895218\n",
      "Epoch number: 7531 and the loss : 0.061445944011211395\n",
      "Epoch number: 7541 and the loss : 0.06317617744207382\n",
      "Epoch number: 7551 and the loss : 0.06190278381109238\n",
      "Epoch number: 7561 and the loss : 0.06196713447570801\n",
      "Epoch number: 7571 and the loss : 0.06038173660635948\n",
      "Epoch number: 7581 and the loss : 0.06078284606337547\n",
      "Epoch number: 7591 and the loss : 0.0690387487411499\n",
      "Epoch number: 7601 and the loss : 0.0658365935087204\n",
      "Epoch number: 7611 and the loss : 0.06245700642466545\n",
      "Epoch number: 7621 and the loss : 0.06010045111179352\n",
      "Epoch number: 7631 and the loss : 0.05967211723327637\n",
      "Epoch number: 7641 and the loss : 0.5282900333404541\n",
      "Epoch number: 7651 and the loss : 0.3679789900779724\n",
      "Epoch number: 7661 and the loss : 0.2427273690700531\n",
      "Epoch number: 7671 and the loss : 0.14615093171596527\n",
      "Epoch number: 7681 and the loss : 0.1027771607041359\n",
      "Epoch number: 7691 and the loss : 0.08060751855373383\n",
      "Epoch number: 7701 and the loss : 0.06890305131673813\n",
      "Epoch number: 7711 and the loss : 0.0669797882437706\n",
      "Epoch number: 7721 and the loss : 0.06405743211507797\n",
      "Epoch number: 7731 and the loss : 0.06367633491754532\n",
      "Epoch number: 7741 and the loss : 0.06120532006025314\n",
      "Epoch number: 7751 and the loss : 0.061625588685274124\n",
      "Epoch number: 7761 and the loss : 0.06011710688471794\n",
      "Epoch number: 7771 and the loss : 0.06003032624721527\n",
      "Epoch number: 7781 and the loss : 0.05902134254574776\n",
      "Epoch number: 7791 and the loss : 0.058961961418390274\n",
      "Epoch number: 7801 and the loss : 0.05844428017735481\n",
      "Epoch number: 7811 and the loss : 0.05811486765742302\n",
      "Epoch number: 7821 and the loss : 0.05739042907953262\n",
      "Epoch number: 7831 and the loss : 0.056618575006723404\n",
      "Epoch number: 7841 and the loss : 0.05709529295563698\n",
      "Epoch number: 7851 and the loss : 0.057107359170913696\n",
      "Epoch number: 7861 and the loss : 0.057633690536022186\n",
      "Epoch number: 7871 and the loss : 0.05562765523791313\n",
      "Epoch number: 7881 and the loss : 0.05682379752397537\n",
      "Epoch number: 7891 and the loss : 0.05531058833003044\n",
      "Epoch number: 7901 and the loss : 0.054884135723114014\n",
      "Epoch number: 7911 and the loss : 0.055591683834791183\n",
      "Epoch number: 7921 and the loss : 0.05453911051154137\n",
      "Epoch number: 7931 and the loss : 0.05438442900776863\n",
      "Epoch number: 7941 and the loss : 0.05396585166454315\n",
      "Epoch number: 7951 and the loss : 0.05790548771619797\n",
      "Epoch number: 7961 and the loss : 1.1927024126052856\n",
      "Epoch number: 7971 and the loss : 0.8022863268852234\n",
      "Epoch number: 7981 and the loss : 0.4571344256401062\n",
      "Epoch number: 7991 and the loss : 0.20951426029205322\n",
      "Epoch number: 8001 and the loss : 0.13712427020072937\n",
      "Epoch number: 8011 and the loss : 0.10667169839143753\n",
      "Epoch number: 8021 and the loss : 0.07624419778585434\n",
      "Epoch number: 8031 and the loss : 0.06840191781520844\n",
      "Epoch number: 8041 and the loss : 0.06413763761520386\n",
      "Epoch number: 8051 and the loss : 0.06195620074868202\n",
      "Epoch number: 8061 and the loss : 0.06081325188279152\n",
      "Epoch number: 8071 and the loss : 0.06043330952525139\n",
      "Epoch number: 8081 and the loss : 0.060547858476638794\n",
      "Epoch number: 8091 and the loss : 0.05886685475707054\n",
      "Epoch number: 8101 and the loss : 0.05846487730741501\n",
      "Epoch number: 8111 and the loss : 0.05818753316998482\n",
      "Epoch number: 8121 and the loss : 0.05724585801362991\n",
      "Epoch number: 8131 and the loss : 0.056768808513879776\n",
      "Epoch number: 8141 and the loss : 0.05610070377588272\n",
      "Epoch number: 8151 and the loss : 0.056229449808597565\n",
      "Epoch number: 8161 and the loss : 0.056201040744781494\n",
      "Epoch number: 8171 and the loss : 0.055157385766506195\n",
      "Epoch number: 8181 and the loss : 0.05472010374069214\n",
      "Epoch number: 8191 and the loss : 0.054233916103839874\n",
      "Epoch number: 8201 and the loss : 0.05405200645327568\n",
      "Epoch number: 8211 and the loss : 0.05432143807411194\n",
      "Epoch number: 8221 and the loss : 0.05345939099788666\n",
      "Epoch number: 8231 and the loss : 0.0542188435792923\n",
      "Epoch number: 8241 and the loss : 0.05289490148425102\n",
      "Epoch number: 8251 and the loss : 0.0533984936773777\n",
      "Epoch number: 8261 and the loss : 0.05206036567687988\n",
      "Epoch number: 8271 and the loss : 0.05313991382718086\n",
      "Epoch number: 8281 and the loss : 0.05181880295276642\n",
      "Epoch number: 8291 and the loss : 0.05155293270945549\n",
      "Epoch number: 8301 and the loss : 0.05132115259766579\n",
      "Epoch number: 8311 and the loss : 0.051804736256599426\n",
      "Epoch number: 8321 and the loss : 0.05106927081942558\n",
      "Epoch number: 8331 and the loss : 0.05117844417691231\n",
      "Epoch number: 8341 and the loss : 0.050574891269207\n",
      "Epoch number: 8351 and the loss : 0.05114216357469559\n",
      "Epoch number: 8361 and the loss : 0.050289418548345566\n",
      "Epoch number: 8371 and the loss : 0.05041534826159477\n",
      "Epoch number: 8381 and the loss : 0.05162244662642479\n",
      "Epoch number: 8391 and the loss : 0.04963081702589989\n",
      "Epoch number: 8401 and the loss : 0.04933728277683258\n",
      "Epoch number: 8411 and the loss : 0.04873552918434143\n",
      "Epoch number: 8421 and the loss : 0.09448805451393127\n",
      "Epoch number: 8431 and the loss : 0.5073787569999695\n",
      "Epoch number: 8441 and the loss : 0.2720348536968231\n",
      "Epoch number: 8451 and the loss : 0.1544501930475235\n",
      "Epoch number: 8461 and the loss : 0.2513982057571411\n",
      "Epoch number: 8471 and the loss : 0.11253698915243149\n",
      "Epoch number: 8481 and the loss : 0.14951598644256592\n",
      "Epoch number: 8491 and the loss : 0.08410132676362991\n",
      "Epoch number: 8501 and the loss : 0.07104545086622238\n",
      "Epoch number: 8511 and the loss : 0.06098388880491257\n",
      "Epoch number: 8521 and the loss : 0.05600079894065857\n",
      "Epoch number: 8531 and the loss : 0.053695112466812134\n",
      "Epoch number: 8541 and the loss : 0.05268969386816025\n",
      "Epoch number: 8551 and the loss : 0.050777606666088104\n",
      "Epoch number: 8561 and the loss : 0.049792177975177765\n",
      "Epoch number: 8571 and the loss : 0.049039680510759354\n",
      "Epoch number: 8581 and the loss : 0.048686861991882324\n",
      "Epoch number: 8591 and the loss : 0.04774797707796097\n",
      "Epoch number: 8601 and the loss : 0.04742858186364174\n",
      "Epoch number: 8611 and the loss : 0.04678164795041084\n",
      "Epoch number: 8621 and the loss : 0.04658086597919464\n",
      "Epoch number: 8631 and the loss : 0.04642833396792412\n",
      "Epoch number: 8641 and the loss : 0.04603768512606621\n",
      "Epoch number: 8651 and the loss : 0.04576046019792557\n",
      "Epoch number: 8661 and the loss : 0.04523811116814613\n",
      "Epoch number: 8671 and the loss : 0.04479849338531494\n",
      "Epoch number: 8681 and the loss : 0.045427631586790085\n",
      "Epoch number: 8691 and the loss : 0.04539681598544121\n",
      "Epoch number: 8701 and the loss : 0.04535647854208946\n",
      "Epoch number: 8711 and the loss : 0.045000847429037094\n",
      "Epoch number: 8721 and the loss : 0.04637111723423004\n",
      "Epoch number: 8731 and the loss : 0.04442627355456352\n",
      "Epoch number: 8741 and the loss : 0.04301590099930763\n",
      "Epoch number: 8751 and the loss : 0.04296248033642769\n",
      "Epoch number: 8761 and the loss : 0.04314218834042549\n",
      "Epoch number: 8771 and the loss : 0.04265444353222847\n",
      "Epoch number: 8781 and the loss : 0.04526800289750099\n",
      "Epoch number: 8791 and the loss : 1.3679789304733276\n",
      "Epoch number: 8801 and the loss : 0.3509572148323059\n",
      "Epoch number: 8811 and the loss : 0.15459628403186798\n",
      "Epoch number: 8821 and the loss : 0.0969831794500351\n",
      "Epoch number: 8831 and the loss : 0.08129356801509857\n",
      "Epoch number: 8841 and the loss : 0.0583176389336586\n",
      "Epoch number: 8851 and the loss : 0.04965393245220184\n",
      "Epoch number: 8861 and the loss : 0.04725104197859764\n",
      "Epoch number: 8871 and the loss : 0.045746155083179474\n",
      "Epoch number: 8881 and the loss : 0.044749487191438675\n",
      "Epoch number: 8891 and the loss : 0.044266730546951294\n",
      "Epoch number: 8901 and the loss : 0.04379378259181976\n",
      "Epoch number: 8911 and the loss : 0.04318423569202423\n",
      "Epoch number: 8921 and the loss : 0.042776793241500854\n",
      "Epoch number: 8931 and the loss : 0.042625606060028076\n",
      "Epoch number: 8941 and the loss : 0.04257553070783615\n",
      "Epoch number: 8951 and the loss : 0.04192959889769554\n",
      "Epoch number: 8961 and the loss : 0.04189804941415787\n",
      "Epoch number: 8971 and the loss : 0.04142351448535919\n",
      "Epoch number: 8981 and the loss : 0.04132692515850067\n",
      "Epoch number: 8991 and the loss : 0.040972642600536346\n",
      "Epoch number: 9001 and the loss : 0.040835168212652206\n",
      "Epoch number: 9011 and the loss : 0.04041425883769989\n",
      "Epoch number: 9021 and the loss : 0.04031679779291153\n",
      "Epoch number: 9031 and the loss : 0.040057938545942307\n",
      "Epoch number: 9041 and the loss : 0.03979254513978958\n",
      "Epoch number: 9051 and the loss : 0.03992846980690956\n",
      "Epoch number: 9061 and the loss : 0.03963649645447731\n",
      "Epoch number: 9071 and the loss : 0.03898089379072189\n",
      "Epoch number: 9081 and the loss : 0.03909365460276604\n",
      "Epoch number: 9091 and the loss : 0.03887450695037842\n",
      "Epoch number: 9101 and the loss : 0.038560885936021805\n",
      "Epoch number: 9111 and the loss : 0.038344912230968475\n",
      "Epoch number: 9121 and the loss : 0.03884606063365936\n",
      "Epoch number: 9131 and the loss : 0.03966907784342766\n",
      "Epoch number: 9141 and the loss : 0.03799867257475853\n",
      "Epoch number: 9151 and the loss : 0.03918565809726715\n",
      "Epoch number: 9161 and the loss : 0.037444427609443665\n",
      "Epoch number: 9171 and the loss : 0.038134604692459106\n",
      "Epoch number: 9181 and the loss : 0.1657697707414627\n",
      "Epoch number: 9191 and the loss : 1.243455171585083\n",
      "Epoch number: 9201 and the loss : 0.6555748581886292\n",
      "Epoch number: 9211 and the loss : 0.27977946400642395\n",
      "Epoch number: 9221 and the loss : 0.12230328470468521\n",
      "Epoch number: 9231 and the loss : 0.09065055102109909\n",
      "Epoch number: 9241 and the loss : 0.06566216051578522\n",
      "Epoch number: 9251 and the loss : 0.05518916994333267\n",
      "Epoch number: 9261 and the loss : 0.050491247326135635\n",
      "Epoch number: 9271 and the loss : 0.047677844762802124\n",
      "Epoch number: 9281 and the loss : 0.04621937498450279\n",
      "Epoch number: 9291 and the loss : 0.045381173491477966\n",
      "Epoch number: 9301 and the loss : 0.043999746441841125\n",
      "Epoch number: 9311 and the loss : 0.04352280870079994\n",
      "Epoch number: 9321 and the loss : 0.043014299124479294\n",
      "Epoch number: 9331 and the loss : 0.04235578700900078\n",
      "Epoch number: 9341 and the loss : 0.041998181492090225\n",
      "Epoch number: 9351 and the loss : 0.041505225002765656\n",
      "Epoch number: 9361 and the loss : 0.04113248735666275\n",
      "Epoch number: 9371 and the loss : 0.04147827997803688\n",
      "Epoch number: 9381 and the loss : 0.040982600301504135\n",
      "Epoch number: 9391 and the loss : 0.04021915793418884\n",
      "Epoch number: 9401 and the loss : 0.04003587365150452\n",
      "Epoch number: 9411 and the loss : 0.03981782868504524\n",
      "Epoch number: 9421 and the loss : 0.03944059833884239\n",
      "Epoch number: 9431 and the loss : 0.039141543209552765\n",
      "Epoch number: 9441 and the loss : 0.03902359679341316\n",
      "Epoch number: 9451 and the loss : 0.038754142820835114\n",
      "Epoch number: 9461 and the loss : 0.038787636905908585\n",
      "Epoch number: 9471 and the loss : 0.038536299020051956\n",
      "Epoch number: 9481 and the loss : 0.03820076584815979\n",
      "Epoch number: 9491 and the loss : 0.03810544312000275\n",
      "Epoch number: 9501 and the loss : 0.037764690816402435\n",
      "Epoch number: 9511 and the loss : 0.037494853138923645\n",
      "Epoch number: 9521 and the loss : 0.03747418150305748\n",
      "Epoch number: 9531 and the loss : 0.03736632689833641\n",
      "Epoch number: 9541 and the loss : 0.03696247935295105\n",
      "Epoch number: 9551 and the loss : 0.03685234114527702\n",
      "Epoch number: 9561 and the loss : 0.03721524775028229\n",
      "Epoch number: 9571 and the loss : 0.03673442825675011\n",
      "Epoch number: 9581 and the loss : 0.03636041283607483\n",
      "Epoch number: 9591 and the loss : 0.036326728761196136\n",
      "Epoch number: 9601 and the loss : 0.03599441796541214\n",
      "Epoch number: 9611 and the loss : 0.035726193338632584\n",
      "Epoch number: 9621 and the loss : 0.03598497807979584\n",
      "Epoch number: 9631 and the loss : 0.03554343804717064\n",
      "Epoch number: 9641 and the loss : 0.056079983711242676\n",
      "Epoch number: 9651 and the loss : 0.4243905246257782\n",
      "Epoch number: 9661 and the loss : 0.22646769881248474\n",
      "Epoch number: 9671 and the loss : 0.16525809466838837\n",
      "Epoch number: 9681 and the loss : 0.14167706668376923\n",
      "Epoch number: 9691 and the loss : 0.07445526123046875\n",
      "Epoch number: 9701 and the loss : 0.04977273941040039\n",
      "Epoch number: 9711 and the loss : 0.04467019438743591\n",
      "Epoch number: 9721 and the loss : 0.0413958877325058\n",
      "Epoch number: 9731 and the loss : 0.03988316282629967\n",
      "Epoch number: 9741 and the loss : 0.03896360471844673\n",
      "Epoch number: 9751 and the loss : 0.038498230278491974\n",
      "Epoch number: 9761 and the loss : 0.037811528891325\n",
      "Epoch number: 9771 and the loss : 0.037649787962436676\n",
      "Epoch number: 9781 and the loss : 0.037010882049798965\n",
      "Epoch number: 9791 and the loss : 0.036923978477716446\n",
      "Epoch number: 9801 and the loss : 0.036481358110904694\n",
      "Epoch number: 9811 and the loss : 0.03627678379416466\n",
      "Epoch number: 9821 and the loss : 0.03606051206588745\n",
      "Epoch number: 9831 and the loss : 0.03576703742146492\n",
      "Epoch number: 9841 and the loss : 0.03549877926707268\n",
      "Epoch number: 9851 and the loss : 0.035237621515989304\n",
      "Epoch number: 9861 and the loss : 0.03507471829652786\n",
      "Epoch number: 9871 and the loss : 0.03517484292387962\n",
      "Epoch number: 9881 and the loss : 0.0348055325448513\n",
      "Epoch number: 9891 and the loss : 0.03470423445105553\n",
      "Epoch number: 9901 and the loss : 0.034629177302122116\n",
      "Epoch number: 9911 and the loss : 0.03428082540631294\n",
      "Epoch number: 9921 and the loss : 0.034194525331258774\n",
      "Epoch number: 9931 and the loss : 0.0339171402156353\n",
      "Epoch number: 9941 and the loss : 0.03381325304508209\n",
      "Epoch number: 9951 and the loss : 0.033590104430913925\n",
      "Epoch number: 9961 and the loss : 0.03348869830369949\n",
      "Epoch number: 9971 and the loss : 0.03336852416396141\n",
      "Epoch number: 9981 and the loss : 0.033663731068372726\n",
      "Epoch number: 9991 and the loss : 0.03305413946509361\n",
      "8.568093538284302\n"
     ]
    }
   ],
   "source": [
    "import time\n",
    "start_time=time.time()\n",
    "epochs=10000\n",
    "final_losses=[]\n",
    "for i in range(epochs):\n",
    "    i=i+1\n",
    "    y_pred=model.forward(X_train)\n",
    "    loss=loss_function(y_pred,y_train)\n",
    "    final_losses.append(loss.item())\n",
    "    if i%10==1:\n",
    "        print(\"Epoch number: {} and the loss : {}\".format(i,loss.item()))\n",
    "    optimizer.zero_grad()\n",
    "    loss.backward()\n",
    "    optimizer.step()\n",
    "print(time.time()-start_time)"
   ]
  },
  {
   "cell_type": "code",
   "execution_count": 23,
   "metadata": {
    "gather": {
     "logged": 1689855900534
    },
    "jupyter": {
     "outputs_hidden": false,
     "source_hidden": false
    },
    "nteract": {
     "transient": {
      "deleting": false
     }
    }
   },
   "outputs": [],
   "source": [
    "### plot the loss function\n",
    "import matplotlib.pyplot as plt\n",
    "%matplotlib inline"
   ]
  },
  {
   "cell_type": "code",
   "execution_count": 24,
   "metadata": {
    "gather": {
     "logged": 1689855900706
    },
    "jupyter": {
     "outputs_hidden": false,
     "source_hidden": false
    },
    "nteract": {
     "transient": {
      "deleting": false
     }
    }
   },
   "outputs": [
    {
     "data": {
      "text/plain": [
       "Text(0.5, 0, 'Epoch')"
      ]
     },
     "execution_count": 24,
     "metadata": {},
     "output_type": "execute_result"
    },
    {
     "data": {
      "image/png": "[encoded data removed]",
      "text/plain": [
       "<Figure size 640x480 with 1 Axes>"
      ]
     },
     "metadata": {},
     "output_type": "display_data"
    }
   ],
   "source": [
    "plt.plot(range(epochs),final_losses)\n",
    "plt.ylabel('Loss')\n",
    "plt.xlabel('Epoch')"
   ]
  },
  {
   "cell_type": "code",
   "execution_count": 25,
   "metadata": {
    "gather": {
     "logged": 1689855900813
    },
    "jupyter": {
     "outputs_hidden": false,
     "source_hidden": false
    },
    "nteract": {
     "transient": {
      "deleting": false
     }
    }
   },
   "outputs": [
    {
     "name": "stdout",
     "output_type": "stream",
     "text": [
      "tensor([0.0151, 1.0000], device='cuda:0')\n",
      "tensor([1.0000, 0.0504], device='cuda:0')\n",
      "tensor([0.7491, 1.0000], device='cuda:0')\n",
      "tensor([0.9998, 0.9873], device='cuda:0')\n",
      "tensor([0.9996, 0.9988], device='cuda:0')\n",
      "tensor([1.0000e+00, 1.5101e-06], device='cuda:0')\n",
      "tensor([1.2138e-04, 1.0000e+00], device='cuda:0')\n",
      "tensor([0.9780, 0.9997], device='cuda:0')\n",
      "tensor([0.9978, 0.9872], device='cuda:0')\n",
      "tensor([0.0503, 1.0000], device='cuda:0')\n",
      "tensor([0.0010, 1.0000], device='cuda:0')\n",
      "tensor([0.5995, 1.0000], device='cuda:0')\n",
      "tensor([0.9998, 0.9190], device='cuda:0')\n",
      "tensor([0.7273, 0.9341], device='cuda:0')\n",
      "tensor([1.0000e+00, 7.5472e-18], device='cuda:0')\n",
      "tensor([1.0000e+00, 5.8146e-04], device='cuda:0')\n",
      "tensor([0.3184, 1.0000], device='cuda:0')\n",
      "tensor([1.0000, 0.0020], device='cuda:0')\n",
      "tensor([0.9798, 0.9981], device='cuda:0')\n",
      "tensor([0.6471, 0.9488], device='cuda:0')\n",
      "tensor([1.0000, 0.9984], device='cuda:0')\n",
      "tensor([1.0000, 0.3334], device='cuda:0')\n",
      "tensor([1.0000, 0.9998], device='cuda:0')\n",
      "tensor([1.0000e+00, 5.2991e-23], device='cuda:0')\n",
      "tensor([0.9999, 0.1295], device='cuda:0')\n",
      "tensor([0.9999, 1.0000], device='cuda:0')\n",
      "tensor([1.0000, 0.1832], device='cuda:0')\n",
      "tensor([0.0022, 1.0000], device='cuda:0')\n",
      "tensor([1.0000e+00, 1.1262e-06], device='cuda:0')\n",
      "tensor([0.9999, 0.9984], device='cuda:0')\n",
      "tensor([0.9685, 0.9985], device='cuda:0')\n",
      "tensor([0.5735, 0.9844], device='cuda:0')\n",
      "tensor([1.0000e+00, 1.7896e-05], device='cuda:0')\n",
      "tensor([0.0086, 0.9978], device='cuda:0')\n",
      "tensor([1.0000, 0.3917], device='cuda:0')\n",
      "tensor([1.0000, 1.0000], device='cuda:0')\n",
      "tensor([0.4024, 0.9991], device='cuda:0')\n",
      "tensor([1.0000e+00, 2.7397e-14], device='cuda:0')\n",
      "tensor([1.0000, 0.0333], device='cuda:0')\n",
      "tensor([1.0000, 0.9970], device='cuda:0')\n",
      "tensor([0.9999, 0.9876], device='cuda:0')\n",
      "tensor([1.0000, 1.0000], device='cuda:0')\n",
      "tensor([1.0000, 0.0050], device='cuda:0')\n",
      "tensor([0.9999, 1.0000], device='cuda:0')\n",
      "tensor([1.0000, 1.0000], device='cuda:0')\n",
      "tensor([0.9997, 0.0103], device='cuda:0')\n",
      "tensor([0.9999, 0.0868], device='cuda:0')\n",
      "tensor([0.9979, 0.8027], device='cuda:0')\n",
      "tensor([0.0688, 0.9272], device='cuda:0')\n",
      "tensor([1.0000, 0.9999], device='cuda:0')\n",
      "tensor([0.9994, 0.9948], device='cuda:0')\n",
      "tensor([0.9989, 0.9409], device='cuda:0')\n",
      "tensor([0.9796, 0.9938], device='cuda:0')\n",
      "tensor([0.9996, 0.9249], device='cuda:0')\n",
      "tensor([1.0000e+00, 6.5345e-04], device='cuda:0')\n",
      "tensor([8.2003e-04, 9.9999e-01], device='cuda:0')\n",
      "tensor([0.9801, 0.9456], device='cuda:0')\n",
      "tensor([0.9999, 1.0000], device='cuda:0')\n",
      "tensor([1.0000, 0.9999], device='cuda:0')\n",
      "tensor([0.5843, 1.0000], device='cuda:0')\n",
      "tensor([0.6444, 0.9999], device='cuda:0')\n",
      "tensor([0.9998, 0.9864], device='cuda:0')\n",
      "tensor([1.0000, 0.9735], device='cuda:0')\n",
      "tensor([1., 1.], device='cuda:0')\n",
      "tensor([1., 1.], device='cuda:0')\n",
      "tensor([1.0000, 1.0000], device='cuda:0')\n",
      "tensor([0.9998, 0.9997], device='cuda:0')\n",
      "tensor([0.8087, 1.0000], device='cuda:0')\n",
      "tensor([0.9880, 0.9976], device='cuda:0')\n",
      "tensor([0.9864, 0.9569], device='cuda:0')\n",
      "tensor([1.0000, 0.9929], device='cuda:0')\n",
      "tensor([1.0000, 1.0000], device='cuda:0')\n",
      "tensor([0.7053, 0.9970], device='cuda:0')\n",
      "tensor([0.9942, 1.0000], device='cuda:0')\n",
      "tensor([0.9994, 1.0000], device='cuda:0')\n",
      "tensor([1.0000, 0.9999], device='cuda:0')\n",
      "tensor([1., 0.], device='cuda:0')\n",
      "tensor([0.9548, 0.9963], device='cuda:0')\n",
      "tensor([1.0000e+00, 8.9321e-12], device='cuda:0')\n",
      "tensor([0.4399, 0.9981], device='cuda:0')\n",
      "tensor([0.9924, 0.9997], device='cuda:0')\n",
      "tensor([0.8858, 0.9302], device='cuda:0')\n",
      "tensor([0.9672, 0.8949], device='cuda:0')\n",
      "tensor([1.0000, 0.0364], device='cuda:0')\n",
      "tensor([0.8884, 0.9957], device='cuda:0')\n",
      "tensor([0.9995, 1.0000], device='cuda:0')\n",
      "tensor([1.0000, 1.0000], device='cuda:0')\n",
      "tensor([0.9946, 0.5801], device='cuda:0')\n",
      "tensor([0.3700, 1.0000], device='cuda:0')\n",
      "tensor([1.0000e+00, 6.4832e-05], device='cuda:0')\n",
      "tensor([0.9996, 0.7471], device='cuda:0')\n",
      "tensor([1.0000, 1.0000], device='cuda:0')\n",
      "tensor([1.0000, 0.4568], device='cuda:0')\n",
      "tensor([0.9986, 0.9939], device='cuda:0')\n",
      "tensor([3.1123e-08, 1.0000e+00], device='cuda:0')\n",
      "tensor([1.0000, 0.0225], device='cuda:0')\n",
      "tensor([0.2427, 0.9999], device='cuda:0')\n",
      "tensor([0.9982, 0.9957], device='cuda:0')\n",
      "tensor([0.9998, 0.5213], device='cuda:0')\n",
      "tensor([0.7312, 1.0000], device='cuda:0')\n",
      "tensor([1.0000, 0.2627], device='cuda:0')\n",
      "tensor([1.0000, 0.3899], device='cuda:0')\n",
      "tensor([1.0000, 0.9907], device='cuda:0')\n",
      "tensor([1.0000, 0.0094], device='cuda:0')\n",
      "tensor([0.9603, 1.0000], device='cuda:0')\n",
      "tensor([3.8236e-04, 1.0000e+00], device='cuda:0')\n",
      "tensor([1.0000, 0.9468], device='cuda:0')\n",
      "tensor([1.0000, 1.0000], device='cuda:0')\n",
      "tensor([1.0000, 0.0065], device='cuda:0')\n",
      "tensor([1.0000, 1.0000], device='cuda:0')\n",
      "tensor([0.9962, 0.7002], device='cuda:0')\n",
      "tensor([0.9993, 0.5818], device='cuda:0')\n",
      "tensor([0.9972, 1.0000], device='cuda:0')\n",
      "tensor([0.9999, 0.0133], device='cuda:0')\n",
      "tensor([1.0000, 0.9857], device='cuda:0')\n",
      "tensor([1.0000, 0.9990], device='cuda:0')\n",
      "tensor([1.0000, 0.0059], device='cuda:0')\n",
      "tensor([0.9886, 1.0000], device='cuda:0')\n",
      "tensor([1.0000, 0.9814], device='cuda:0')\n",
      "tensor([0.0040, 1.0000], device='cuda:0')\n",
      "tensor([0.9680, 0.9959], device='cuda:0')\n",
      "tensor([1.0000e+00, 4.6430e-21], device='cuda:0')\n",
      "tensor([0.9935, 0.3252], device='cuda:0')\n",
      "tensor([0.9996, 0.9912], device='cuda:0')\n",
      "tensor([0.9999, 0.9998], device='cuda:0')\n",
      "tensor([1.0000, 0.9960], device='cuda:0')\n",
      "tensor([1.0000, 0.8406], device='cuda:0')\n",
      "tensor([1.0000, 0.1998], device='cuda:0')\n",
      "tensor([1.0000, 0.8318], device='cuda:0')\n",
      "tensor([1.0000, 1.0000], device='cuda:0')\n",
      "tensor([0.7803, 0.9896], device='cuda:0')\n",
      "tensor([1.0000, 0.9999], device='cuda:0')\n",
      "tensor([0.9998, 0.6517], device='cuda:0')\n",
      "tensor([0.9865, 1.0000], device='cuda:0')\n",
      "tensor([1.0000, 0.0011], device='cuda:0')\n",
      "tensor([0.9934, 0.9342], device='cuda:0')\n",
      "tensor([0.6930, 1.0000], device='cuda:0')\n",
      "tensor([0.9712, 0.9872], device='cuda:0')\n",
      "tensor([1., 1.], device='cuda:0')\n",
      "tensor([1.0000, 0.9990], device='cuda:0')\n",
      "tensor([1.0000e+00, 2.0265e-05], device='cuda:0')\n",
      "tensor([0.9993, 0.9677], device='cuda:0')\n",
      "tensor([1.0000, 0.4364], device='cuda:0')\n",
      "tensor([1., 0.], device='cuda:0')\n",
      "tensor([0.9985, 0.9997], device='cuda:0')\n",
      "tensor([1.0000, 0.9880], device='cuda:0')\n",
      "tensor([1.0000, 0.0053], device='cuda:0')\n",
      "tensor([0.9997, 0.2865], device='cuda:0')\n",
      "tensor([1.0000, 0.0017], device='cuda:0')\n",
      "tensor([0.9980, 0.2450], device='cuda:0')\n",
      "tensor([1.0000e+00, 4.7723e-08], device='cuda:0')\n",
      "tensor([1.0000, 1.0000], device='cuda:0')\n",
      "tensor([1.0000, 0.7964], device='cuda:0')\n",
      "tensor([0.9832, 0.9022], device='cuda:0')\n"
     ]
    }
   ],
   "source": [
    "#### Method to find the probability of 2 classes for y_pred\n",
    "with torch.no_grad():\n",
    "    for i,data in enumerate(X_test):\n",
    "        y_pred=model(data)\n",
    "        y_probability = torch.sigmoid(y_pred)\n",
    "        print(y_probability)"
   ]
  },
  {
   "cell_type": "code",
   "execution_count": 26,
   "metadata": {
    "gather": {
     "logged": 1689855900991
    },
    "jupyter": {
     "outputs_hidden": false,
     "source_hidden": false
    },
    "nteract": {
     "transient": {
      "deleting": false
     }
    }
   },
   "outputs": [
    {
     "name": "stdout",
     "output_type": "stream",
     "text": [
      "1\n",
      "0\n",
      "1\n",
      "0\n",
      "0\n",
      "0\n",
      "1\n",
      "1\n",
      "0\n",
      "1\n",
      "1\n",
      "1\n",
      "0\n",
      "1\n",
      "0\n",
      "0\n",
      "1\n",
      "0\n",
      "1\n",
      "1\n",
      "0\n",
      "0\n",
      "0\n",
      "0\n",
      "0\n",
      "1\n",
      "0\n",
      "1\n",
      "0\n",
      "0\n",
      "1\n",
      "1\n",
      "0\n",
      "1\n",
      "0\n",
      "0\n",
      "1\n",
      "0\n",
      "0\n",
      "0\n",
      "0\n",
      "1\n",
      "0\n",
      "1\n",
      "1\n",
      "0\n",
      "0\n",
      "0\n",
      "1\n",
      "0\n",
      "0\n",
      "0\n",
      "1\n",
      "0\n",
      "0\n",
      "1\n",
      "0\n",
      "1\n",
      "0\n",
      "1\n",
      "1\n",
      "0\n",
      "0\n",
      "1\n",
      "1\n",
      "0\n",
      "0\n",
      "1\n",
      "1\n",
      "0\n",
      "0\n",
      "1\n",
      "1\n",
      "1\n",
      "1\n",
      "0\n",
      "0\n",
      "1\n",
      "0\n",
      "1\n",
      "1\n",
      "1\n",
      "0\n",
      "0\n",
      "1\n",
      "1\n",
      "0\n",
      "0\n",
      "1\n",
      "0\n",
      "0\n",
      "1\n",
      "0\n",
      "0\n",
      "1\n",
      "0\n",
      "1\n",
      "0\n",
      "0\n",
      "1\n",
      "0\n",
      "0\n",
      "0\n",
      "0\n",
      "1\n",
      "1\n",
      "0\n",
      "1\n",
      "0\n",
      "0\n",
      "0\n",
      "0\n",
      "1\n",
      "0\n",
      "0\n",
      "0\n",
      "0\n",
      "1\n",
      "0\n",
      "1\n",
      "1\n",
      "0\n",
      "0\n",
      "0\n",
      "0\n",
      "0\n",
      "0\n",
      "0\n",
      "0\n",
      "0\n",
      "1\n",
      "0\n",
      "0\n",
      "1\n",
      "0\n",
      "0\n",
      "1\n",
      "1\n",
      "1\n",
      "0\n",
      "0\n",
      "0\n",
      "0\n",
      "0\n",
      "1\n",
      "0\n",
      "0\n",
      "0\n",
      "0\n",
      "0\n",
      "0\n",
      "1\n",
      "0\n",
      "0\n"
     ]
    }
   ],
   "source": [
    "#### Prediction In X_test data\n",
    "predictions=[]\n",
    "with torch.no_grad():\n",
    "    for i,data in enumerate(X_test):\n",
    "        y_pred=model(data)\n",
    "        predictions.append(y_pred.argmax().item())\n",
    "        print(y_pred.argmax().item())"
   ]
  },
  {
   "cell_type": "code",
   "execution_count": 27,
   "metadata": {
    "gather": {
     "logged": 1689855901133
    },
    "jupyter": {
     "outputs_hidden": false,
     "source_hidden": false
    },
    "nteract": {
     "transient": {
      "deleting": false
     }
    }
   },
   "outputs": [
    {
     "data": {
      "text/plain": [
       "array([[76, 31],\n",
       "       [19, 28]])"
      ]
     },
     "execution_count": 27,
     "metadata": {},
     "output_type": "execute_result"
    }
   ],
   "source": [
    "from sklearn.metrics import confusion_matrix\n",
    "cm=confusion_matrix(y_test,predictions)\n",
    "cm"
   ]
  },
  {
   "cell_type": "code",
   "execution_count": 28,
   "metadata": {
    "gather": {
     "logged": 1689855901248
    },
    "jupyter": {
     "outputs_hidden": false,
     "source_hidden": false
    },
    "nteract": {
     "transient": {
      "deleting": false
     }
    }
   },
   "outputs": [
    {
     "data": {
      "text/plain": [
       "Text(95.72222222222221, 0.5, 'Predicted Values')"
      ]
     },
     "execution_count": 28,
     "metadata": {},
     "output_type": "execute_result"
    },
    {
     "data": {
      "image/png": "[encoded data removed]",
      "text/plain": [
       "<Figure size 1000x600 with 2 Axes>"
      ]
     },
     "metadata": {},
     "output_type": "display_data"
    }
   ],
   "source": [
    "plt.figure(figsize=(10,6))\n",
    "sns.heatmap(cm,annot=True)\n",
    "plt.xlabel('Actual Values')\n",
    "plt.ylabel('Predicted Values')"
   ]
  },
  {
   "cell_type": "code",
   "execution_count": 29,
   "metadata": {
    "gather": {
     "logged": 1689855901352
    },
    "jupyter": {
     "outputs_hidden": false,
     "source_hidden": false
    },
    "nteract": {
     "transient": {
      "deleting": false
     }
    }
   },
   "outputs": [],
   "source": [
    "#### Save the model\n",
    "torch.save(model,'model.pt')"
   ]
  },
  {
   "cell_type": "code",
   "execution_count": 30,
   "metadata": {
    "gather": {
     "logged": 1689855901454
    },
    "jupyter": {
     "outputs_hidden": false,
     "source_hidden": false
    },
    "nteract": {
     "transient": {
      "deleting": false
     }
    }
   },
   "outputs": [],
   "source": [
    "#### Save And Load the model\n",
    "model=torch.load('model.pt')"
   ]
  },
  {
   "cell_type": "code",
   "execution_count": 31,
   "metadata": {
    "gather": {
     "logged": 1689855901554
    },
    "jupyter": {
     "outputs_hidden": false,
     "source_hidden": false
    },
    "nteract": {
     "transient": {
      "deleting": false
     }
    }
   },
   "outputs": [],
   "source": [
    "#### New Data\n",
    "lst1=[6.0, 130.0, 72.0, 40.0, 0.0, 25.6, 0.627, 45.0]\n",
    "#new_data=torch.tensor(lst1)\n",
    "new_data=torch.FloatTensor(lst1).cuda()"
   ]
  },
  {
   "cell_type": "code",
   "execution_count": 32,
   "metadata": {
    "gather": {
     "logged": 1689855901867
    },
    "jupyter": {
     "outputs_hidden": false,
     "source_hidden": false
    },
    "nteract": {
     "transient": {
      "deleting": false
     }
    }
   },
   "outputs": [
    {
     "name": "stdout",
     "output_type": "stream",
     "text": [
      "tensor([ 7.3850, -0.0787], device='cuda:0')\n",
      "0\n"
     ]
    }
   ],
   "source": [
    "#### Predict new data using Pytorch\n",
    "with torch.no_grad():\n",
    "    print(model(new_data))\n",
    "    print(model(new_data).argmax().item())"
   ]
  },
  {
   "cell_type": "code",
   "execution_count": null,
   "metadata": {
    "jupyter": {
     "outputs_hidden": false,
     "source_hidden": false
    },
    "nteract": {
     "transient": {
      "deleting": false
     }
    }
   },
   "outputs": [],
   "source": []
  }
 ],
 "metadata": {
  "kernel_info": {
   "name": "python310-sdkv2"
  },
  "kernelspec": {
   "display_name": "Python 3.10 - SDK v2",
   "language": "python",
   "name": "python310-sdkv2"
  },
  "language_info": {
   "codemirror_mode": {
    "name": "ipython",
    "version": 3
   },
   "file_extension": ".py",
   "mimetype": "text/x-python",
   "name": "python",
   "nbconvert_exporter": "python",
   "pygments_lexer": "ipython3",
   "version": "3.10.11"
  },
  "microsoft": {
   "host": {
    "AzureML": {
     "notebookHasBeenCompleted": true
    }
   },
   "ms_spell_check": {
    "ms_spell_check_language": "en"
   }
  },
  "nteract": {
   "version": "nteract-front-end@1.0.0"
  }
 },
 "nbformat": 4,
 "nbformat_minor": 2
}
