{
 "cells": [
  {
   "cell_type": "markdown",
   "id": "18656412",
   "metadata": {},
   "source": [
    "# Creating An ANN using Pytorch"
   ]
  },
  {
   "cell_type": "code",
   "execution_count": 4,
   "id": "c51e183f",
   "metadata": {},
   "outputs": [],
   "source": [
    "import torch.nn.functional as nnf"
   ]
  },
  {
   "cell_type": "code",
   "execution_count": 5,
   "id": "ea7312e9",
   "metadata": {},
   "outputs": [
    {
     "data": {
      "text/html": [
       "<div>\n",
       "<style scoped>\n",
       "    .dataframe tbody tr th:only-of-type {\n",
       "        vertical-align: middle;\n",
       "    }\n",
       "\n",
       "    .dataframe tbody tr th {\n",
       "        vertical-align: top;\n",
       "    }\n",
       "\n",
       "    .dataframe thead th {\n",
       "        text-align: right;\n",
       "    }\n",
       "</style>\n",
       "<table border=\"1\" class=\"dataframe\">\n",
       "  <thead>\n",
       "    <tr style=\"text-align: right;\">\n",
       "      <th></th>\n",
       "      <th>Pregnancies</th>\n",
       "      <th>Glucose</th>\n",
       "      <th>BloodPressure</th>\n",
       "      <th>SkinThickness</th>\n",
       "      <th>Insulin</th>\n",
       "      <th>BMI</th>\n",
       "      <th>DiabetesPedigreeFunction</th>\n",
       "      <th>Age</th>\n",
       "      <th>Outcome</th>\n",
       "    </tr>\n",
       "  </thead>\n",
       "  <tbody>\n",
       "    <tr>\n",
       "      <th>0</th>\n",
       "      <td>6</td>\n",
       "      <td>148</td>\n",
       "      <td>72</td>\n",
       "      <td>35</td>\n",
       "      <td>0</td>\n",
       "      <td>33.6</td>\n",
       "      <td>0.627</td>\n",
       "      <td>50</td>\n",
       "      <td>1</td>\n",
       "    </tr>\n",
       "    <tr>\n",
       "      <th>1</th>\n",
       "      <td>1</td>\n",
       "      <td>85</td>\n",
       "      <td>66</td>\n",
       "      <td>29</td>\n",
       "      <td>0</td>\n",
       "      <td>26.6</td>\n",
       "      <td>0.351</td>\n",
       "      <td>31</td>\n",
       "      <td>0</td>\n",
       "    </tr>\n",
       "    <tr>\n",
       "      <th>2</th>\n",
       "      <td>8</td>\n",
       "      <td>183</td>\n",
       "      <td>64</td>\n",
       "      <td>0</td>\n",
       "      <td>0</td>\n",
       "      <td>23.3</td>\n",
       "      <td>0.672</td>\n",
       "      <td>32</td>\n",
       "      <td>1</td>\n",
       "    </tr>\n",
       "    <tr>\n",
       "      <th>3</th>\n",
       "      <td>1</td>\n",
       "      <td>89</td>\n",
       "      <td>66</td>\n",
       "      <td>23</td>\n",
       "      <td>94</td>\n",
       "      <td>28.1</td>\n",
       "      <td>0.167</td>\n",
       "      <td>21</td>\n",
       "      <td>0</td>\n",
       "    </tr>\n",
       "    <tr>\n",
       "      <th>4</th>\n",
       "      <td>0</td>\n",
       "      <td>137</td>\n",
       "      <td>40</td>\n",
       "      <td>35</td>\n",
       "      <td>168</td>\n",
       "      <td>43.1</td>\n",
       "      <td>2.288</td>\n",
       "      <td>33</td>\n",
       "      <td>1</td>\n",
       "    </tr>\n",
       "  </tbody>\n",
       "</table>\n",
       "</div>"
      ],
      "text/plain": [
       "   Pregnancies  Glucose  BloodPressure  SkinThickness  Insulin   BMI  \\\n",
       "0            6      148             72             35        0  33.6   \n",
       "1            1       85             66             29        0  26.6   \n",
       "2            8      183             64              0        0  23.3   \n",
       "3            1       89             66             23       94  28.1   \n",
       "4            0      137             40             35      168  43.1   \n",
       "\n",
       "   DiabetesPedigreeFunction  Age  Outcome  \n",
       "0                     0.627   50        1  \n",
       "1                     0.351   31        0  \n",
       "2                     0.672   32        1  \n",
       "3                     0.167   21        0  \n",
       "4                     2.288   33        1  "
      ]
     },
     "execution_count": 5,
     "metadata": {},
     "output_type": "execute_result"
    }
   ],
   "source": [
    "import pandas as pd\n",
    "import seaborn as sns\n",
    "df=pd.read_csv('diabetes.csv')\n",
    "df.head()"
   ]
  },
  {
   "cell_type": "code",
   "execution_count": 6,
   "id": "dd080492",
   "metadata": {},
   "outputs": [],
   "source": [
    "X=df.drop('Outcome',axis=1).values### independent features\n",
    "y=df['Outcome'].values###dependent features"
   ]
  },
  {
   "cell_type": "code",
   "execution_count": 4,
   "id": "fc5a2d5b",
   "metadata": {},
   "outputs": [],
   "source": [
    "# Split into train/test\n",
    "from sklearn.model_selection import train_test_split\n",
    "X_train,X_test,y_train,y_test=train_test_split(X,y,test_size=0.2,random_state=0)"
   ]
  },
  {
   "cell_type": "code",
   "execution_count": 5,
   "id": "2af04aa0",
   "metadata": {},
   "outputs": [],
   "source": [
    "#### Libraries From Pytorch\n",
    "import torch\n",
    "import torch.nn as nn\n",
    "import torch.nn.functional as F"
   ]
  },
  {
   "cell_type": "code",
   "execution_count": 6,
   "id": "48ff7e70",
   "metadata": {},
   "outputs": [],
   "source": [
    "##### Creating Tensors\n",
    "X_train=torch.FloatTensor(X_train)\n",
    "X_test=torch.FloatTensor(X_test)\n",
    "y_train=torch.LongTensor(y_train)\n",
    "y_test=torch.LongTensor(y_test)"
   ]
  },
  {
   "cell_type": "code",
   "execution_count": 7,
   "id": "94abec96",
   "metadata": {},
   "outputs": [
    {
     "data": {
      "text/plain": [
       "(768, 9)"
      ]
     },
     "execution_count": 7,
     "metadata": {},
     "output_type": "execute_result"
    }
   ],
   "source": [
    "df.shape"
   ]
  },
  {
   "cell_type": "code",
   "execution_count": 8,
   "id": "5cd1793a",
   "metadata": {},
   "outputs": [],
   "source": [
    "#### Creating Modelwith Pytorch\n",
    "\n",
    "class ANN_Model(nn.Module):\n",
    "    def __init__(self,input_features=8,hidden1=20,hidden2=20,out_features=2):\n",
    "        super().__init__()\n",
    "        self.f_connected1=nn.Linear(input_features,hidden1)\n",
    "        self.f_connected2=nn.Linear(hidden1,hidden2)\n",
    "        self.out=nn.Linear(hidden2,out_features)\n",
    "    def forward(self,x):\n",
    "        x=F.relu(self.f_connected1(x))\n",
    "        x=F.relu(self.f_connected2(x))\n",
    "        x=self.out(x)\n",
    "        return x"
   ]
  },
  {
   "cell_type": "code",
   "execution_count": 9,
   "id": "b0da7d8c",
   "metadata": {},
   "outputs": [],
   "source": [
    "####instantiate my ANN_model\n",
    "torch.manual_seed(20)\n",
    "model=ANN_Model()"
   ]
  },
  {
   "cell_type": "code",
   "execution_count": 10,
   "id": "0611844c",
   "metadata": {},
   "outputs": [
    {
     "data": {
      "text/plain": [
       "<bound method Module.parameters of ANN_Model(\n",
       "  (f_connected1): Linear(in_features=8, out_features=20, bias=True)\n",
       "  (f_connected2): Linear(in_features=20, out_features=20, bias=True)\n",
       "  (out): Linear(in_features=20, out_features=2, bias=True)\n",
       ")>"
      ]
     },
     "execution_count": 10,
     "metadata": {},
     "output_type": "execute_result"
    }
   ],
   "source": [
    "model.parameters"
   ]
  },
  {
   "cell_type": "code",
   "execution_count": 11,
   "id": "147b4e97",
   "metadata": {},
   "outputs": [],
   "source": [
    "###Backward Propogation-- Define the loss_function,define the optimizer\n",
    "loss_function=nn.CrossEntropyLoss()\n",
    "optimizer=torch.optim.Adam(model.parameters(),lr=0.01)"
   ]
  },
  {
   "cell_type": "code",
   "execution_count": 12,
   "id": "bf446e38",
   "metadata": {},
   "outputs": [
    {
     "name": "stdout",
     "output_type": "stream",
     "text": [
      "Epoch number: 1 and the loss : 3.4572105407714844\n",
      "Epoch number: 11 and the loss : 0.8019207119941711\n",
      "Epoch number: 21 and the loss : 0.609032154083252\n",
      "Epoch number: 31 and the loss : 0.5917771458625793\n",
      "Epoch number: 41 and the loss : 0.5679706931114197\n",
      "Epoch number: 51 and the loss : 0.5529041886329651\n",
      "Epoch number: 61 and the loss : 0.5410094857215881\n",
      "Epoch number: 71 and the loss : 0.5310389995574951\n",
      "Epoch number: 81 and the loss : 0.5220361351966858\n",
      "Epoch number: 91 and the loss : 0.5135972499847412\n",
      "Epoch number: 101 and the loss : 0.5061253905296326\n",
      "Epoch number: 111 and the loss : 0.49834102392196655\n",
      "Epoch number: 121 and the loss : 0.4960552155971527\n",
      "Epoch number: 131 and the loss : 0.4828636348247528\n",
      "Epoch number: 141 and the loss : 0.4756036698818207\n",
      "Epoch number: 151 and the loss : 0.47992366552352905\n",
      "Epoch number: 161 and the loss : 0.4792959690093994\n",
      "Epoch number: 171 and the loss : 0.4650002121925354\n",
      "Epoch number: 181 and the loss : 0.45820358395576477\n",
      "Epoch number: 191 and the loss : 0.45270898938179016\n",
      "Epoch number: 201 and the loss : 0.44577348232269287\n",
      "Epoch number: 211 and the loss : 0.439631849527359\n",
      "Epoch number: 221 and the loss : 0.43892601132392883\n",
      "Epoch number: 231 and the loss : 0.44370654225349426\n",
      "Epoch number: 241 and the loss : 0.42956236004829407\n",
      "Epoch number: 251 and the loss : 0.42511260509490967\n",
      "Epoch number: 261 and the loss : 0.42271602153778076\n",
      "Epoch number: 271 and the loss : 0.41189029812812805\n",
      "Epoch number: 281 and the loss : 0.4097506105899811\n",
      "Epoch number: 291 and the loss : 0.41244056820869446\n",
      "Epoch number: 301 and the loss : 0.4068197011947632\n",
      "Epoch number: 311 and the loss : 0.4738980233669281\n",
      "Epoch number: 321 and the loss : 0.4035496115684509\n",
      "Epoch number: 331 and the loss : 0.3942610025405884\n",
      "Epoch number: 341 and the loss : 0.39475753903388977\n",
      "Epoch number: 351 and the loss : 0.38631999492645264\n",
      "Epoch number: 361 and the loss : 0.3848018944263458\n",
      "Epoch number: 371 and the loss : 0.3815741240978241\n",
      "Epoch number: 381 and the loss : 0.38691970705986023\n",
      "Epoch number: 391 and the loss : 0.3837810456752777\n",
      "Epoch number: 401 and the loss : 0.3726516366004944\n",
      "Epoch number: 411 and the loss : 0.3715468645095825\n",
      "Epoch number: 421 and the loss : 0.3739556074142456\n",
      "Epoch number: 431 and the loss : 0.39892861247062683\n",
      "Epoch number: 441 and the loss : 0.36445263028144836\n",
      "Epoch number: 451 and the loss : 0.3644334673881531\n",
      "Epoch number: 461 and the loss : 0.3590727746486664\n",
      "Epoch number: 471 and the loss : 0.35546356439590454\n",
      "Epoch number: 481 and the loss : 0.37878111004829407\n",
      "Epoch number: 491 and the loss : 0.3902263641357422\n"
     ]
    }
   ],
   "source": [
    "epochs=500\n",
    "final_losses=[]\n",
    "for i in range(epochs):\n",
    "    i=i+1\n",
    "    y_pred=model.forward(X_train)\n",
    "    loss=loss_function(y_pred,y_train)\n",
    "    final_losses.append(loss.item())\n",
    "    if i%10==1:\n",
    "        print(\"Epoch number: {} and the loss : {}\".format(i,loss.item()))\n",
    "    optimizer.zero_grad()\n",
    "    loss.backward()\n",
    "    optimizer.step()"
   ]
  },
  {
   "cell_type": "code",
   "execution_count": 13,
   "id": "655d85c5",
   "metadata": {},
   "outputs": [
    {
     "data": {
      "text/plain": [
       "Text(0.5, 0, 'Epoch')"
      ]
     },
     "execution_count": 13,
     "metadata": {},
     "output_type": "execute_result"
    },
    {
     "data": {
      "image/png": "[encoded data removed]",
      "text/plain": [
       "<Figure size 640x480 with 1 Axes>"
      ]
     },
     "metadata": {},
     "output_type": "display_data"
    }
   ],
   "source": [
    "### plot the loss function\n",
    "import matplotlib.pyplot as plt\n",
    "%matplotlib inline\n",
    "\n",
    "plt.plot(range(epochs),final_losses)\n",
    "plt.ylabel('Loss')\n",
    "plt.xlabel('Epoch')"
   ]
  },
  {
   "cell_type": "code",
   "execution_count": 14,
   "id": "7edd5adb",
   "metadata": {},
   "outputs": [
    {
     "name": "stdout",
     "output_type": "stream",
     "text": [
      "tensor([0.8465, 0.9868])\n",
      "tensor([0.8949, 0.2657])\n",
      "tensor([0.9549, 0.5150])\n",
      "tensor([0.5228, 0.7866])\n",
      "tensor([0.8979, 0.8269])\n",
      "tensor([0.9765, 0.1642])\n",
      "tensor([0.2588, 0.8376])\n",
      "tensor([0.4270, 0.8791])\n",
      "tensor([0.4046, 0.3991])\n",
      "tensor([0.7024, 0.2212])\n",
      "tensor([0.3273, 0.7876])\n",
      "tensor([0.2258, 0.9123])\n",
      "tensor([0.9202, 0.7348])\n",
      "tensor([0.0414, 0.7819])\n",
      "tensor([0.9461, 0.1139])\n",
      "tensor([0.9105, 0.5799])\n",
      "tensor([0.3866, 0.8340])\n",
      "tensor([0.9285, 0.3674])\n",
      "tensor([0.8249, 0.8413])\n",
      "tensor([0.6633, 0.5445])\n",
      "tensor([0.8088, 0.9356])\n",
      "tensor([0.9907, 0.5880])\n",
      "tensor([0.7832, 0.7039])\n",
      "tensor([0.9967, 0.0071])\n",
      "tensor([0.9189, 0.1181])\n",
      "tensor([0.7873, 0.8747])\n",
      "tensor([0.9519, 0.5320])\n",
      "tensor([0.1522, 0.8451])\n",
      "tensor([0.9320, 0.6336])\n",
      "tensor([0.8894, 0.8218])\n",
      "tensor([0.6241, 0.6456])\n",
      "tensor([0.7088, 0.5709])\n",
      "tensor([0.6879, 0.2779])\n",
      "tensor([0.3769, 0.6569])\n",
      "tensor([0.8786, 0.7106])\n",
      "tensor([0.9622, 0.9928])\n",
      "tensor([0.4447, 0.6798])\n",
      "tensor([0.9879, 0.1063])\n",
      "tensor([0.6039, 0.5212])\n",
      "tensor([0.7967, 0.9472])\n",
      "tensor([0.8713, 0.5384])\n",
      "tensor([0.9955, 0.1948])\n",
      "tensor([0.8434, 0.6050])\n",
      "tensor([0.9233, 0.9886])\n",
      "tensor([0.0059, 0.9919])\n",
      "tensor([0.9543, 0.4089])\n",
      "tensor([0.8532, 0.5411])\n",
      "tensor([0.6964, 0.6498])\n",
      "tensor([0.4846, 0.5685])\n",
      "tensor([0.9305, 0.8765])\n",
      "tensor([0.9395, 0.8837])\n",
      "tensor([0.7572, 0.6304])\n",
      "tensor([0.1073, 0.7455])\n",
      "tensor([0.8314, 0.7968])\n",
      "tensor([0.2691, 0.2087])\n",
      "tensor([0.7147, 0.4838])\n",
      "tensor([0.8521, 0.5739])\n",
      "tensor([0.9963, 0.3610])\n",
      "tensor([0.9599, 0.9219])\n",
      "tensor([0.9913, 0.8049])\n",
      "tensor([0.3662, 0.7035])\n",
      "tensor([0.5325, 0.3604])\n",
      "tensor([0.9732, 0.8409])\n",
      "tensor([0.9784, 0.9974])\n",
      "tensor([0.9817, 0.9945])\n",
      "tensor([0.9659, 0.9971])\n",
      "tensor([0.9349, 0.9513])\n",
      "tensor([0.9005, 0.8243])\n",
      "tensor([0.9118, 0.8185])\n",
      "tensor([0.9684, 0.0894])\n",
      "tensor([0.9705, 0.7235])\n",
      "tensor([0.9850, 0.9583])\n",
      "tensor([0.8854, 0.5242])\n",
      "tensor([0.8857, 0.9918])\n",
      "tensor([0.9663, 0.9958])\n",
      "tensor([0.9425, 0.8904])\n",
      "tensor([9.9999e-01, 1.4426e-05])\n",
      "tensor([0.2993, 0.8044])\n",
      "tensor([0.9809, 0.1361])\n",
      "tensor([0.8641, 0.5974])\n",
      "tensor([0.8368, 0.8432])\n",
      "tensor([0.4697, 0.6803])\n",
      "tensor([0.7128, 0.3408])\n",
      "tensor([0.9283, 0.3169])\n",
      "tensor([0.8575, 0.5409])\n",
      "tensor([0.9903, 0.2899])\n",
      "tensor([0.9730, 0.9714])\n",
      "tensor([0.5140, 0.4135])\n",
      "tensor([0.2911, 0.9034])\n",
      "tensor([0.6022, 0.2811])\n",
      "tensor([0.9293, 0.6034])\n",
      "tensor([0.9433, 0.8698])\n",
      "tensor([0.7763, 0.6286])\n",
      "tensor([0.9811, 0.1223])\n",
      "tensor([0.6778, 0.8821])\n",
      "tensor([0.7680, 0.6883])\n",
      "tensor([0.5901, 0.2566])\n",
      "tensor([0.6205, 0.4933])\n",
      "tensor([0.5688, 0.6070])\n",
      "tensor([0.8434, 0.8945])\n",
      "tensor([0.8066, 0.0494])\n",
      "tensor([0.8420, 0.3955])\n",
      "tensor([0.9826, 0.4824])\n",
      "tensor([0.9680, 0.2410])\n",
      "tensor([0.6520, 0.9204])\n",
      "tensor([0.8060, 0.8727])\n",
      "tensor([0.9416, 0.3107])\n",
      "tensor([0.8606, 0.8834])\n",
      "tensor([0.9740, 0.1645])\n",
      "tensor([0.9735, 0.9953])\n",
      "tensor([0.9255, 0.3619])\n",
      "tensor([0.0211, 0.7500])\n",
      "tensor([0.9348, 0.9629])\n",
      "tensor([0.9336, 0.1839])\n",
      "tensor([0.2958, 0.2635])\n",
      "tensor([0.9371, 0.9467])\n",
      "tensor([0.7016, 0.0934])\n",
      "tensor([0.1804, 0.8955])\n",
      "tensor([0.9591, 0.5220])\n",
      "tensor([0.0219, 0.8838])\n",
      "tensor([0.8249, 0.7150])\n",
      "tensor([0.6992, 0.6651])\n",
      "tensor([0.6454, 0.4697])\n",
      "tensor([0.8854, 0.7867])\n",
      "tensor([0.9102, 0.7755])\n",
      "tensor([0.9084, 0.7238])\n",
      "tensor([0.9508, 0.0931])\n",
      "tensor([0.8684, 0.6612])\n",
      "tensor([0.9717, 0.7929])\n",
      "tensor([0.9920, 0.9659])\n",
      "tensor([0.5416, 0.7071])\n",
      "tensor([0.9910, 0.8031])\n",
      "tensor([0.8844, 0.4927])\n",
      "tensor([0.2640, 0.0091])\n",
      "tensor([0.8078, 0.3793])\n",
      "tensor([0.6297, 0.7793])\n",
      "tensor([0.8264, 0.8186])\n",
      "tensor([0.8227, 0.6084])\n",
      "tensor([0.9829, 0.9958])\n",
      "tensor([0.9428, 0.9221])\n",
      "tensor([0.9536, 0.3232])\n",
      "tensor([0.5888, 0.7943])\n",
      "tensor([0.9663, 0.7003])\n",
      "tensor([9.9992e-01, 4.1985e-04])\n",
      "tensor([0.8671, 0.8692])\n",
      "tensor([0.8895, 0.7194])\n",
      "tensor([0.9254, 0.4069])\n",
      "tensor([0.7126, 0.6375])\n",
      "tensor([0.9141, 0.4928])\n",
      "tensor([0.0518, 0.7188])\n",
      "tensor([0.9364, 0.2186])\n",
      "tensor([0.9902, 0.7765])\n",
      "tensor([0.9512, 0.2488])\n",
      "tensor([0.8229, 0.5137])\n"
     ]
    }
   ],
   "source": [
    "#### Method to find the probability of 2 classes for y_pred\n",
    "predictions=[]\n",
    "with torch.no_grad():\n",
    "    for i,data in enumerate(X_test):\n",
    "        y_pred=model(data)\n",
    "        y_probability = torch.sigmoid(y_pred)\n",
    "        print(y_probability)"
   ]
  },
  {
   "cell_type": "code",
   "execution_count": 15,
   "id": "4397e95a",
   "metadata": {},
   "outputs": [
    {
     "name": "stdout",
     "output_type": "stream",
     "text": [
      "1\n",
      "0\n",
      "0\n",
      "1\n",
      "0\n",
      "0\n",
      "1\n",
      "1\n",
      "0\n",
      "0\n",
      "1\n",
      "1\n",
      "0\n",
      "1\n",
      "0\n",
      "0\n",
      "1\n",
      "0\n",
      "1\n",
      "0\n",
      "1\n",
      "0\n",
      "0\n",
      "0\n",
      "0\n",
      "1\n",
      "0\n",
      "1\n",
      "0\n",
      "0\n",
      "1\n",
      "0\n",
      "0\n",
      "1\n",
      "0\n",
      "1\n",
      "1\n",
      "0\n",
      "0\n",
      "1\n",
      "0\n",
      "0\n",
      "0\n",
      "1\n",
      "1\n",
      "0\n",
      "0\n",
      "0\n",
      "1\n",
      "0\n",
      "0\n",
      "0\n",
      "1\n",
      "0\n",
      "0\n",
      "0\n",
      "0\n",
      "0\n",
      "0\n",
      "0\n",
      "1\n",
      "0\n",
      "0\n",
      "1\n",
      "1\n",
      "1\n",
      "1\n",
      "0\n",
      "0\n",
      "0\n",
      "0\n",
      "0\n",
      "0\n",
      "1\n",
      "1\n",
      "0\n",
      "0\n",
      "1\n",
      "0\n",
      "0\n",
      "1\n",
      "1\n",
      "0\n",
      "0\n",
      "0\n",
      "0\n",
      "0\n",
      "0\n",
      "1\n",
      "0\n",
      "0\n",
      "0\n",
      "0\n",
      "0\n",
      "1\n",
      "0\n",
      "0\n",
      "0\n",
      "1\n",
      "1\n",
      "0\n",
      "0\n",
      "0\n",
      "0\n",
      "1\n",
      "1\n",
      "0\n",
      "1\n",
      "0\n",
      "1\n",
      "0\n",
      "1\n",
      "1\n",
      "0\n",
      "0\n",
      "1\n",
      "0\n",
      "1\n",
      "0\n",
      "1\n",
      "0\n",
      "0\n",
      "0\n",
      "0\n",
      "0\n",
      "0\n",
      "0\n",
      "0\n",
      "0\n",
      "0\n",
      "1\n",
      "0\n",
      "0\n",
      "0\n",
      "0\n",
      "1\n",
      "0\n",
      "0\n",
      "1\n",
      "0\n",
      "0\n",
      "1\n",
      "0\n",
      "0\n",
      "1\n",
      "0\n",
      "0\n",
      "0\n",
      "0\n",
      "1\n",
      "0\n",
      "0\n",
      "0\n",
      "0\n"
     ]
    }
   ],
   "source": [
    "#### Prediction In X_test data\n",
    "predictions=[]\n",
    "with torch.no_grad():\n",
    "    for i,data in enumerate(X_test):\n",
    "        y_pred=model(data)        \n",
    "        predictions.append(y_pred.argmax().item())\n",
    "        print(y_pred.argmax().item())"
   ]
  },
  {
   "cell_type": "code",
   "execution_count": 16,
   "id": "39b8538a",
   "metadata": {},
   "outputs": [
    {
     "data": {
      "text/plain": [
       "array([[90, 17],\n",
       "       [14, 33]])"
      ]
     },
     "execution_count": 16,
     "metadata": {},
     "output_type": "execute_result"
    }
   ],
   "source": [
    "from sklearn.metrics import confusion_matrix\n",
    "cm=confusion_matrix(y_test,predictions)\n",
    "cm"
   ]
  },
  {
   "cell_type": "code",
   "execution_count": 17,
   "id": "9490bc91",
   "metadata": {},
   "outputs": [
    {
     "data": {
      "text/plain": [
       "Text(95.72222222222221, 0.5, 'Predicted Values')"
      ]
     },
     "execution_count": 17,
     "metadata": {},
     "output_type": "execute_result"
    },
    {
     "data": {
      "image/png": "[encoded data removed]",
      "text/plain": [
       "<Figure size 1000x600 with 2 Axes>"
      ]
     },
     "metadata": {},
     "output_type": "display_data"
    }
   ],
   "source": [
    "plt.figure(figsize=(10,6))\n",
    "sns.heatmap(cm,annot=True)\n",
    "plt.xlabel('Actual Values')\n",
    "plt.ylabel('Predicted Values')"
   ]
  },
  {
   "cell_type": "code",
   "execution_count": 18,
   "id": "d9a3bd83",
   "metadata": {},
   "outputs": [],
   "source": [
    "#### Save the model\n",
    "torch.save(model,'model.pt')"
   ]
  },
  {
   "cell_type": "code",
   "execution_count": 19,
   "id": "d4b1487f",
   "metadata": {},
   "outputs": [],
   "source": [
    "#### Save And Load the model\n",
    "model=torch.load('model.pt')"
   ]
  },
  {
   "cell_type": "code",
   "execution_count": 20,
   "id": "aa2cb616",
   "metadata": {},
   "outputs": [],
   "source": [
    "### Predcition of new data point\n",
    "lst1=[6.0, 130.0, 72.0, 40.0, 0.0, 25.6, 0.627, 45.0]\n",
    "new_data=torch.tensor(lst1)"
   ]
  },
  {
   "cell_type": "code",
   "execution_count": 21,
   "id": "0fd0b388",
   "metadata": {},
   "outputs": [
    {
     "name": "stdout",
     "output_type": "stream",
     "text": [
      "tensor([1.1163, 1.3008])\n",
      "1\n"
     ]
    }
   ],
   "source": [
    "#### Predict new data using Pytorch\n",
    "with torch.no_grad():\n",
    "    new_data_output = model(new_data)\n",
    "    print(new_data_output)\n",
    "    print(new_data_output.argmax().item())"
   ]
  },
  {
   "cell_type": "code",
   "execution_count": 22,
   "id": "54ed266d",
   "metadata": {},
   "outputs": [
    {
     "name": "stdout",
     "output_type": "stream",
     "text": [
      "tensor([0.7533, 0.7860])\n"
     ]
    }
   ],
   "source": [
    "#### find the probability of 2 classes for y_pred\n",
    "y_probability = torch.sigmoid(new_data_output)\n",
    "print(y_probability)"
   ]
  },
  {
   "cell_type": "code",
   "execution_count": null,
   "id": "4dbf353f",
   "metadata": {},
   "outputs": [],
   "source": []
  }
 ],
 "metadata": {
  "kernelspec": {
   "display_name": "Python 3 (ipykernel)",
   "language": "python",
   "name": "python3"
  },
  "language_info": {
   "codemirror_mode": {
    "name": "ipython",
    "version": 3
   },
   "file_extension": ".py",
   "mimetype": "text/x-python",
   "name": "python",
   "nbconvert_exporter": "python",
   "pygments_lexer": "ipython3",
   "version": "3.8.12"
  }
 },
 "nbformat": 4,
 "nbformat_minor": 5
}
